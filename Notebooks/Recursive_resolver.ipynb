{
 "cells": [
  {
   "cell_type": "code",
   "execution_count": 1,
   "metadata": {},
   "outputs": [],
   "source": [
    "import socket\n",
    "import time\n",
    "import json\n",
    "import threading"
   ]
  },
  {
   "cell_type": "markdown",
   "metadata": {},
   "source": [
    "The recursive resolver should listen to 127.0.0.10 and UDP Port 53053"
   ]
  },
  {
   "cell_type": "code",
   "execution_count": 2,
   "metadata": {},
   "outputs": [],
   "source": [
    "resolver_client_socket = socket.socket(socket.AF_INET,\n",
    "                     socket.SOCK_DGRAM)"
   ]
  },
  {
   "cell_type": "code",
   "execution_count": 3,
   "metadata": {},
   "outputs": [],
   "source": [
    "server_addr = ('127.0.0.10', 53053)\n",
    "resolver_client_socket.bind(server_addr)"
   ]
  },
  {
   "cell_type": "markdown",
   "metadata": {},
   "source": [
    "#### Packet Format\n",
    "\n",
    "DNS server and client should exchange UDP packets. The transport layer payload should\n",
    "be JSON strings, to ease implementation (e.g., to be independent of byte ordering). The\n",
    "following keys be at least supported:\n",
    "\n",
    "    dns.flags.response\n",
    "    dns.flags.recdesired\n",
    "    dns.qry.name\n",
    "    dns.qry.type\n",
    "    dns.flags.rcode\n",
    "    dns.count.answers\n",
    "    dns.flags.authoritative\n",
    "    dns.a\n",
    "    dns.ns\n",
    "    dns.resp.ttl\n",
    "    dns.srv.name\n",
    "    dns.srv.port\n",
    "    dns.srv.proto\n",
    "    dns.srv.service\n",
    "    dns.srv.target\n",
    "For further details see https://www.wireshark.org/docs/dfref/d/dns.html."
   ]
  },
  {
   "cell_type": "code",
   "execution_count": 4,
   "metadata": {},
   "outputs": [],
   "source": [
    "payload_dict ={  \n",
    "    \"dns.flags.response\": \"placeholder\",\n",
    "    \"dns.flags.recdesired\": \"placeholder\",\n",
    "    \"dns.qry.name\": \"placeholder\",\n",
    "    \"dns.qry.type\": \"placeholder\",\n",
    "    \"dns.flags.rcode\": \"placeholder\",\n",
    "    \"dns.count.answers\": \"placeholder\",\n",
    "    \"dns.flags.authoritative\": \"placeholder\",\n",
    "    \"dns.a\": \"placeholder\",\n",
    "    \"dns.ns\": \"placeholder\",\n",
    "    \"dns.resp.ttl\": 1234,\n",
    "    \"dns.srv.name\": \"placeholder\",\n",
    "    \"dns.srv.port\": \"placeholder\",\n",
    "    \"dns.srv.proto\": \"placeholder\",\n",
    "    \"dns.srv.service\": \"placeholder\",\n",
    "    \"dns.srv.target\": \"placeholder\"\n",
    "}  "
   ]
  },
  {
   "cell_type": "code",
   "execution_count": 5,
   "metadata": {},
   "outputs": [],
   "source": [
    "#convert dict to json object\n",
    "payload_json = json.dumps(payload_dict, indent = 4)"
   ]
  },
  {
   "cell_type": "markdown",
   "metadata": {},
   "source": [
    "#### Start a tread and wait for packages for specified number of seconds"
   ]
  },
  {
   "cell_type": "code",
   "execution_count": 6,
   "metadata": {},
   "outputs": [],
   "source": [
    "class Recursive_resolver(object):\n",
    "    def __init__(self, seconds=2000):\n",
    "        self.seconds = seconds\n",
    "        \n",
    "    def start(self):\n",
    "        print('Resolver start listening for ',self.seconds,' seconds...')\n",
    "        start = time.time()\n",
    "        time.perf_counter()    \n",
    "        elapsed = 0\n",
    "        while elapsed < self.seconds:\n",
    "            elapsed = time.time() - start\n",
    "            #time.sleep(100)\n",
    "            payload, client_addr = resolver_client_socket.recvfrom(1024)\n",
    "            payload = json.loads(payload)  \n",
    "            print('Received response from: ',client_addr,' with payload:\\n',json.dumps(payload, indent = 4))\n",
    "            \n",
    "        print('Resolver stopped listening after ', elapsed ,' seconds.')"
   ]
  },
  {
   "cell_type": "code",
   "execution_count": 7,
   "metadata": {},
   "outputs": [
    {
     "name": "stdout",
     "output_type": "stream",
     "text": [
      "Resolver start listening for  60  seconds...\n"
     ]
    }
   ],
   "source": [
    "resolver = Recursive_resolver(seconds=60)\n",
    "\n",
    "resolver_thread = threading.Thread(target=resolver.start)\n",
    "\n",
    "resolver_thread.start()"
   ]
  },
  {
   "cell_type": "markdown",
   "metadata": {},
   "source": [
    "#### Send request to authorative dns server"
   ]
  },
  {
   "cell_type": "code",
   "execution_count": 10,
   "metadata": {},
   "outputs": [
    {
     "data": {
      "text/plain": [
       "544"
      ]
     },
     "execution_count": 10,
     "metadata": {},
     "output_type": "execute_result"
    }
   ],
   "source": [
    "#send a request to a dns server\n",
    "resolver_client_socket.sendto(bytes(payload_json, 'utf-8'),('127.0.0.15',53053))"
   ]
  },
  {
   "cell_type": "code",
   "execution_count": null,
   "metadata": {},
   "outputs": [],
   "source": []
  },
  {
   "cell_type": "code",
   "execution_count": null,
   "metadata": {},
   "outputs": [],
   "source": []
  }
 ],
 "metadata": {
  "kernelspec": {
   "display_name": "Python 3",
   "language": "python",
   "name": "python3"
  },
  "language_info": {
   "codemirror_mode": {
    "name": "ipython",
    "version": 3
   },
   "file_extension": ".py",
   "mimetype": "text/x-python",
   "name": "python",
   "nbconvert_exporter": "python",
   "pygments_lexer": "ipython3",
   "version": "3.7.6"
  }
 },
 "nbformat": 4,
 "nbformat_minor": 4
}

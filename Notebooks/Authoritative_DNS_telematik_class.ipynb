{
 "cells": [
  {
   "cell_type": "code",
   "execution_count": 1,
   "metadata": {},
   "outputs": [],
   "source": [
    "import socket\n",
    "import time\n",
    "import json\n",
    "import threading\n",
    "import pandas as pd\n",
    "import re\n",
    "import sys\n",
    "import numpy as np"
   ]
  },
  {
   "cell_type": "markdown",
   "metadata": {},
   "source": [
    "#### This is a visualization of our DNS Zones\n",
    "\n",
    "![zones_telematik.png](zones_telematik.png)"
   ]
  },
  {
   "cell_type": "markdown",
   "metadata": {},
   "source": [
    "### This class is representing a DNS server and is handing all requests and responses to a DNS server"
   ]
  },
  {
   "cell_type": "code",
   "execution_count": 2,
   "metadata": {},
   "outputs": [],
   "source": [
    "class NpEncoder(json.JSONEncoder):\n",
    "    def default(self, obj):\n",
    "        if isinstance(obj, np.integer):\n",
    "            return int(obj)\n",
    "        elif isinstance(obj, np.floating):\n",
    "            return float(obj)\n",
    "        elif isinstance(obj, np.ndarray):\n",
    "            return obj.tolist()\n",
    "        else:\n",
    "            return super(NpEncoder, self).default(obj)\n",
    "  \n",
    "#     def load_config(self):\n",
    "#         ## load all entries for my zone\n",
    "#         with open('names.json') as dnsnamedata:\n",
    "#             data = json.load(dnsnamedata)\n",
    "#             dns_zone = data[zone_number]\n",
    "class DNS(object):\n",
    "    stop_threads= False\n",
    "    #socket = None\n",
    "#     address = None\n",
    "#     port = None\n",
    "    #is_authorative = 0 #is this server an authorative server?\n",
    "    #is_root = 0        #is this server a root server?\n",
    "    #dns_zone = None    #own dns zone as json\n",
    "    #records_in_own_zone = None #all ns and a records in own zone. (this information is alreay \n",
    "                                    #conrained in the dns_zone variable but we are keeping this sepearate variable for now )  \n",
    "#     def __init__(self, zone_number, authorative, is_root, seconds=2000,addr='127.0.0.11', port=53053): \n",
    "#         self.address = addr\n",
    "#         self.port    = port\n",
    "    def __init__(self, config, seconds=2000): \n",
    "        self.config = config\n",
    "        self.origin = config[\"$origin\"]\n",
    "        self.ip = config[\"$ip\"]\n",
    "        self.port    = config[\"$port\"]\n",
    "        self.is_authorative = config[\"$authorative\"]\n",
    "        self.root = config[\"$root\"]\n",
    "        self.socket = socket.socket(socket.AF_INET, socket.SOCK_DGRAM)\n",
    "        self.run_thread = True\n",
    "        #self.is_root = is_root\n",
    "        self.records_in_own_zone = self.load_records()\n",
    "        self.socket.bind((self.ip,self.port))\n",
    "\n",
    "    '''loads all entrys for own zone from our json file. \n",
    "    (e.g. zonename: telematik for zone (telematik, swith, router))'''\n",
    "    def load_records(self):\n",
    "        ## load the records from the config\n",
    "        \n",
    "        telematik_dns_dict = {'ns': pd.DataFrame(self.config['ns'])['host'].tolist(),\n",
    "                              'a':pd.DataFrame(self.config['a'])['value'].tolist(),\n",
    "                              'ttl':pd.DataFrame(self.config['a'])['ttl'].tolist()}\n",
    "        records_in_own_zone = pd.DataFrame(telematik_dns_dict, columns = ['ns','a','ttl' ])\n",
    "        return records_in_own_zone\n",
    "\n",
    "    \n",
    "    '''checks if a requested entry is in own zone. \n",
    "    (e.g. this zonename is telematik and requested address is for dns name www.swith.telematik.\n",
    "    Means that swith is in our zone and we can send the adress for switch.telematik)\n",
    "    Returns None if not. '''\n",
    "    def is_in_own_zone(self, qry_name):\n",
    "        #names_i_know = pd.DataFrame(data[0]['ns'])['host'].tolist()\n",
    "        \n",
    "        print('check if {} is in our zone'.format(qry_name))\n",
    "        \n",
    "        ns = None\n",
    "        a = None\n",
    "        ttl = None\n",
    "        for counter,name in enumerate (self.records_in_own_zone['ns']):\n",
    "            \n",
    "            #if authorative server then check if the adress match with one of the adresses in my zone.\n",
    "            if(self.is_authorative):\n",
    "                print(\"Authorative\")\n",
    "                if(name == qry_name):\n",
    "                    print(\"Strings matching\")\n",
    "                    ns = self.records_in_own_zone['ns'][counter]\n",
    "                    a = self.records_in_own_zone['a'][counter]\n",
    "                    ttl = self.records_in_own_zone['ttl'][counter]  \n",
    "            else:\n",
    "                #server is not authorative\n",
    "                #define pattern somestring.name\n",
    "                #pattern = re.compile(r'(.*?)(\\.'+str(name)+')?$')\n",
    "                pattern = re.compile(r'(.*?)('+str(name)+')?$')\n",
    "\n",
    "                #apply the qry_name we are looking for to the patter and return a list with results\n",
    "                # e.g. ['www.switch', '.telematik'] for mattching or ['www.switch.telematik1', None] for not matching\n",
    "                groups = pattern.match(qry_name).groups()\n",
    "                if(groups[1] != None): \n",
    "                    ns = self.records_in_own_zone['ns'][counter]\n",
    "                    a = self.records_in_own_zone['a'][counter]\n",
    "                    ttl = self.records_in_own_zone['ttl'][counter]\n",
    "        return ns, a, ttl\n",
    "        #return telematik_dns_df[telematik_dns_df['ns'] == forward_to]\n",
    "    \n",
    "    #check if this dns can send directly the authorative answer?\n",
    "    #def have_authorative_answer():\n",
    "    \n",
    "    def build_response(self, msg_json):\n",
    "        payload= {}\n",
    "        msg = json.loads(msg_json)\n",
    "        if not msg['dns.flags.response']:  # if a question set this flag to 1 (answer)\n",
    "            payload['dns.flags.response'] = 1\n",
    "        else:\n",
    "            payload['dns.flags.response'] = 0  # do nothing??????????????????????\n",
    "        payload['dns.flags.recavail'] = 0\n",
    "        payload['dns.qry.name'] = msg['dns.qry.name']\n",
    "        payload['dns.qry.type'] =  msg['dns.qry.type']                # 1steht für a record \"????????????????????????????????????????\"\n",
    "        ns, a, ttl  = self.is_in_own_zone(msg['dns.qry.name'])\n",
    "        if a == None:\n",
    "            payload['dns.flags.rcode'] = 3\n",
    "        else:\n",
    "            payload['dns.flags.rcode'] = 0\n",
    "        payload['dns.count.answers'] = 1 # es können auch mehrere ip's einen dns vertreten!!!\n",
    "        payload['dns.flags.authoritative'] = self.is_authorative\n",
    "        payload['dns.a'] = a\n",
    "        payload['dns.rsp.ttl.a'] = ttl\n",
    "        payload['dns.ns'] = ns\n",
    "        return payload\n",
    "    \n",
    "#     def build_dataframe():\n",
    "        \n",
    "        \n",
    "#     def write_log():\n",
    "    def response_to_client(payload, client_addr):\n",
    "        \n",
    "        try:\n",
    "            payload['dns.flags.response'] = 'Changed!'\n",
    "            payload_json = json.dumps(payload)\n",
    "            time.sleep(0.5)\n",
    "            server_socket.sendto(bytes(payload_json, 'utf-8'), client_addr)\n",
    "            # nachricht kommt rein \n",
    "            # nachricht wird geschickt\n",
    "        except:\n",
    "            print('could not respond to client: ',client_addr)\n",
    "        \n",
    "    def send_request(self, ip, port, payload_json):\n",
    "        self.socket.sendto(bytes(payload_json, 'utf-8'),(ip, port))\n",
    "        print(\"message successfull sended to ip:{} port:{}\\n\".format(ip,port), payload_json)\n",
    "    #this method is to start a thread to listen and handle requests and responses.\n",
    "    def start(self):\n",
    "        print(self.ip,self.port,\"is listening\")\n",
    "        while self.run_thread:\n",
    "            \n",
    "            client_message, client_addr = self.socket.recvfrom(1024)\n",
    "            client_ip = client_addr[0]\n",
    "            client_port = client_addr[1]\n",
    "            client_message_json = json.dumps(json.loads(client_message), cls=NpEncoder, indent=4) \n",
    "            print(\"server ({}) got message from:{}:{}\\n\".format( self.origin, client_ip, client_port), client_message_json)\n",
    "            payload = self.build_response(client_message)\n",
    "            payload_json = json.dumps(payload, cls=NpEncoder, indent=4)\n",
    "\n",
    "            \n",
    "            \n",
    "#             if DNS.stop_threads:\n",
    "#                 #self.socket.close()\n",
    "#                 break\n",
    "            #print(type(payload))\n",
    "#             try:\n",
    "           # tt =json.dumps(payload, cls=NpEncoder)\n",
    "#             except:\n",
    "#                 e = sys.exc_info()[0]\n",
    "            #print(payload)\n",
    "            #print(tt)\n",
    "            self.send_request(client_ip, client_port, payload_json)\n",
    "            \n",
    "    \n",
    "        "
   ]
  },
  {
   "cell_type": "code",
   "execution_count": 3,
   "metadata": {},
   "outputs": [],
   "source": [
    "def create_dns_servers():\n",
    "    ## load all entries for my zone\n",
    "    dns_servers=[]\n",
    "    with open('names.json') as dnsnamedata:\n",
    "        dns_server_configs = json.load(dnsnamedata)\n",
    "    for dns_server_config in dns_server_configs:\n",
    "        dns_servers.append(DNS(dns_server_config))\n",
    "    return dns_servers\n",
    "\n",
    "def start_dns_servers(dns_servers):\n",
    "    ## load all entries for my zone\n",
    "    dns_threads=[]\n",
    "    for dns in dns_servers:\n",
    "        time.sleep(0.5)\n",
    "        resolver_thread = threading.Thread(target=dns.start)\n",
    "        dns_threads.append(resolver_thread)\n",
    "        resolver_thread.start()\n",
    "    return dns_threads"
   ]
  },
  {
   "cell_type": "code",
   "execution_count": 4,
   "metadata": {},
   "outputs": [
    {
     "name": "stdout",
     "output_type": "stream",
     "text": [
      "127.0.0.11 53053 is listening\n",
      "127.0.0.12 53053 is listening\n",
      "127.0.0.14 53053 is listening\n",
      "127.0.0.15 53053 is listening\n",
      "127.0.0.13 53053 is listening\n",
      "127.0.0.16 53053 is listening\n",
      "127.0.0.17 53053 is listening\n"
     ]
    }
   ],
   "source": [
    "dns_servers = create_dns_servers()\n",
    "dns_threads =  start_dns_servers(dns_servers)\n",
    "#t = DNS(zone0)"
   ]
  },
  {
   "cell_type": "code",
   "execution_count": 5,
   "metadata": {},
   "outputs": [
    {
     "data": {
      "text/plain": [
       "7"
      ]
     },
     "execution_count": 5,
     "metadata": {},
     "output_type": "execute_result"
    }
   ],
   "source": [
    "len(dns_threads)"
   ]
  },
  {
   "cell_type": "code",
   "execution_count": 6,
   "metadata": {},
   "outputs": [
    {
     "data": {
      "text/plain": [
       "True"
      ]
     },
     "execution_count": 6,
     "metadata": {},
     "output_type": "execute_result"
    }
   ],
   "source": [
    "dns_servers[0].run_thread"
   ]
  },
  {
   "cell_type": "code",
   "execution_count": 7,
   "metadata": {},
   "outputs": [
    {
     "data": {
      "text/plain": [
       "<socket.socket fd=1756, family=AddressFamily.AF_INET, type=SocketKind.SOCK_DGRAM, proto=0, laddr=('127.0.0.11', 53053)>"
      ]
     },
     "execution_count": 7,
     "metadata": {},
     "output_type": "execute_result"
    }
   ],
   "source": [
    "dns_servers[0].socket"
   ]
  },
  {
   "cell_type": "code",
   "execution_count": 8,
   "metadata": {},
   "outputs": [],
   "source": [
    "t = dns_threads[0]"
   ]
  },
  {
   "cell_type": "code",
   "execution_count": 9,
   "metadata": {},
   "outputs": [
    {
     "data": {
      "text/plain": [
       "<Thread(Thread-6, started 25212)>"
      ]
     },
     "execution_count": 9,
     "metadata": {},
     "output_type": "execute_result"
    }
   ],
   "source": [
    "t"
   ]
  },
  {
   "cell_type": "code",
   "execution_count": 10,
   "metadata": {},
   "outputs": [],
   "source": [
    "DNS.stop_threads =True"
   ]
  },
  {
   "cell_type": "code",
   "execution_count": 11,
   "metadata": {},
   "outputs": [
    {
     "name": "stdout",
     "output_type": "stream",
     "text": [
      "127.0.0.11\n",
      "127.0.0.12\n",
      "127.0.0.14\n",
      "127.0.0.15\n",
      "127.0.0.13\n",
      "127.0.0.16\n",
      "127.0.0.17\n",
      "server (.) got message from:127.0.0.10:53053\n",
      " {\n",
      "    \"dns.flags.response\": 0,\n",
      "    \"dns.flags.recdesired\": 0,\n",
      "    \"dns.qry.name\": \"macos.pcpools.fuberlin\",\n",
      "    \"dns.qry.type\": 1\n",
      "}\n",
      "check if macos.pcpools.fuberlin is in our zone\n",
      "message successfull sended to ip:127.0.0.10 port:53053\n",
      " {\n",
      "    \"dns.flags.response\": 1,\n",
      "    \"dns.flags.recavail\": 0,\n",
      "    \"dns.qry.name\": \"macos.pcpools.fuberlin\",\n",
      "    \"dns.qry.type\": 1,\n",
      "    \"dns.flags.rcode\": 0,\n",
      "    \"dns.count.answers\": 1,\n",
      "    \"dns.flags.authoritative\": 0,\n",
      "    \"dns.a\": \"127.0.0.13\",\n",
      "    \"dns.rsp.ttl.a\": 400,\n",
      "    \"dns.ns\": \".fuberlin\"\n",
      "}\n",
      "server (.fuberlin) got message from:127.0.0.10:53053\n",
      " {\n",
      "    \"dns.flags.response\": 0,\n",
      "    \"dns.flags.recdesired\": 0,\n",
      "    \"dns.qry.name\": \"macos.pcpools.fuberlin\",\n",
      "    \"dns.qry.type\": 1\n",
      "}\n",
      "check if macos.pcpools.fuberlin is in our zone\n",
      "message successfull sended to ip:127.0.0.10 port:53053\n",
      " {\n",
      "    \"dns.flags.response\": 1,\n",
      "    \"dns.flags.recavail\": 0,\n",
      "    \"dns.qry.name\": \"macos.pcpools.fuberlin\",\n",
      "    \"dns.qry.type\": 1,\n",
      "    \"dns.flags.rcode\": 0,\n",
      "    \"dns.count.answers\": 1,\n",
      "    \"dns.flags.authoritative\": 0,\n",
      "    \"dns.a\": \"127.0.0.17\",\n",
      "    \"dns.rsp.ttl.a\": 400,\n",
      "    \"dns.ns\": \"pcpools.fuberlin\"\n",
      "}\n",
      "server (pcpools.fuberlin) got message from:127.0.0.10:53053\n",
      " {\n",
      "    \"dns.flags.response\": 0,\n",
      "    \"dns.flags.recdesired\": 0,\n",
      "    \"dns.qry.name\": \"macos.pcpools.fuberlin\",\n",
      "    \"dns.qry.type\": 1\n",
      "}\n",
      "check if macos.pcpools.fuberlin is in our zone\n",
      "Authorative\n",
      "Authorative\n",
      "Strings matching\n",
      "Authorative\n",
      "message successfull sended to ip:127.0.0.10 port:53053\n",
      " {\n",
      "    \"dns.flags.response\": 1,\n",
      "    \"dns.flags.recavail\": 0,\n",
      "    \"dns.qry.name\": \"macos.pcpools.fuberlin\",\n",
      "    \"dns.qry.type\": 1,\n",
      "    \"dns.flags.rcode\": 0,\n",
      "    \"dns.count.answers\": 1,\n",
      "    \"dns.flags.authoritative\": 1,\n",
      "    \"dns.a\": \"127.0.0.25\",\n",
      "    \"dns.rsp.ttl.a\": 400,\n",
      "    \"dns.ns\": \"macos.pcpools.fuberlin\"\n",
      "}\n"
     ]
    }
   ],
   "source": [
    "for x in dns_servers:\n",
    "    print(x.ip)"
   ]
  }
 ],
 "metadata": {
  "kernelspec": {
   "display_name": "Python 3",
   "language": "python",
   "name": "python3"
  },
  "language_info": {
   "codemirror_mode": {
    "name": "ipython",
    "version": 3
   },
   "file_extension": ".py",
   "mimetype": "text/x-python",
   "name": "python",
   "nbconvert_exporter": "python",
   "pygments_lexer": "ipython3",
   "version": "3.7.3"
  },
  "latex_envs": {
   "LaTeX_envs_menu_present": true,
   "autoclose": false,
   "autocomplete": true,
   "bibliofile": "biblio.bib",
   "cite_by": "apalike",
   "current_citInitial": 1,
   "eqLabelWithNumbers": true,
   "eqNumInitial": 1,
   "hotkeys": {
    "equation": "Ctrl-E",
    "itemize": "Ctrl-I"
   },
   "labels_anchors": false,
   "latex_user_defs": false,
   "report_style_numbering": false,
   "user_envs_cfg": false
  }
 },
 "nbformat": 4,
 "nbformat_minor": 4
}

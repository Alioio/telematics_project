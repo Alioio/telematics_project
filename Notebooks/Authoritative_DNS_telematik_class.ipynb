{
 "cells": [
  {
   "cell_type": "code",
   "execution_count": 1,
   "metadata": {},
   "outputs": [],
   "source": [
    "import socket\n",
    "import time\n",
    "import json\n",
    "import threading\n",
    "import pandas as pd\n",
    "import re"
   ]
  },
  {
   "cell_type": "markdown",
   "metadata": {},
   "source": [
    "#### This is a visualization of our DNS Zones\n",
    "\n",
    "![zones_telematik.png](zones_telematik.png)"
   ]
  },
  {
   "cell_type": "markdown",
   "metadata": {},
   "source": [
    "### This class is representing a DNS server and is handing all requests and responses to a DNS server"
   ]
  },
  {
   "cell_type": "code",
   "execution_count": null,
   "metadata": {},
   "outputs": [],
   "source": [
    "def class DNS_server():\n",
    "    \n",
    "    socket = None\n",
    "    address = None\n",
    "    port = None\n",
    "    is_authoharive = 0 #is this server an authorative server?\n",
    "    is_root = 0        #is this server a root server?\n",
    "    dns_zone = None    #own dns zone as json\n",
    "    records_in_own_zone = None #all ns and a records in own zone. (this information is alreay \n",
    "                                    #conrained in the dns_zone variable but we are keeping this sepearate variable for now )\n",
    "  \n",
    "    def __init__(self, seconds=2000, , addr='127.0.0.9', port=53053): \n",
    "        self.address = addr\n",
    "        self.port    = port\n",
    "        self.socket = socket.socket(socket.AF_INET, socket.SOCK_DGRAM)\n",
    "        \n",
    "        \n",
    "    '''loads all entrys for own zone from our json file. \n",
    "    (e.g. zonename: telematik for zone (telematik, swith, router))'''\n",
    "    def load_zone(zonename):\n",
    "        ## load all entries for my zone\n",
    "        with open('names.json') as dnsnamedata:\n",
    "        data = json.load(dnsnamedata)\n",
    "        self.dns_zone = data[0]\n",
    "        \n",
    "        telematik_dns_dict = {'ns': pd.DataFrame(self.dns_zone['ns'])['host'].tolist(),\n",
    "                              'a':pd.DataFrame(self.dns_zone['a'])['value'].tolist()}\n",
    "        self.records_in_own_zone = pd.DataFrame(telematik_dns_dict, columns = ['ns','a' ])\n",
    "        \n",
    "        print('loads the zones')\n",
    "    \n",
    "    '''checks if a requested entry is in own zone. \n",
    "    (e.g. this zonename is telematik and requested address is for dns name www.swith.telematik.\n",
    "    Means that swith is in our zone and we can send the adress for switch.telematik)\n",
    "    Returns None if not. '''\n",
    "    def is_in_own_zone():\n",
    "        names_i_know = pd.DataFrame(data[0]['ns'])['host'].tolist()\n",
    "        \n",
    "        print('check if x is in our zone')\n",
    "        \n",
    "        forward_to = None\n",
    "    \n",
    "        for name in names_i_know:\n",
    "            #define pattern somestring.name\n",
    "            pattern = re.compile(r'(.*?)(\\.'+str(name)+')?$')\n",
    "\n",
    "            #apply the addr we are looking for to the patter and return a list with results\n",
    "            # e.g. ['www.switch', '.telematik'] for mattching or ['www.switch.telematik1', None] for not matching\n",
    "            groups = pattern.match(addr).groups()\n",
    "\n",
    "            if(groups[1] != None):\n",
    "                forward_to = name\n",
    "\n",
    "        return telematik_dns_df[telematik_dns_df['ns'] == forward_to]\n",
    "    \n",
    "    #check if this dns can send directly the authorative answer?\n",
    "    #def have_authorative_answer():\n",
    "        \n",
    "    def response_to_client(payload, client_addr):\n",
    "        \n",
    "        try:\n",
    "        payload['dns.flags.response'] = 'Changed!'\n",
    "        payload_json = json.dumps(payload, indent = 4)\n",
    "        time.sleep(0.5)\n",
    "        server_socket.sendto(bytes(payload_json, 'utf-8'), client_addr)\n",
    "    except:\n",
    "        print('could not respond to client: ',client_addr)\n",
    "        \n",
    "    #def build_response():\n",
    "    \n",
    "    #this method is to start a thread to listen and handle requests and responses.\n",
    "    def start():\n",
    "        \n",
    "        server_addr = (self.address, self.port)\n",
    "        self.socket.bind(server_addr)\n",
    "        \n",
    "        \n",
    "    \n",
    "        "
   ]
  },
  {
   "cell_type": "code",
   "execution_count": null,
   "metadata": {},
   "outputs": [],
   "source": []
  },
  {
   "cell_type": "code",
   "execution_count": null,
   "metadata": {},
   "outputs": [],
   "source": []
  },
  {
   "cell_type": "code",
   "execution_count": null,
   "metadata": {},
   "outputs": [],
   "source": []
  },
  {
   "cell_type": "code",
   "execution_count": null,
   "metadata": {},
   "outputs": [],
   "source": []
  },
  {
   "cell_type": "code",
   "execution_count": null,
   "metadata": {},
   "outputs": [],
   "source": []
  }
 ],
 "metadata": {
  "kernelspec": {
   "display_name": "Python 3",
   "language": "python",
   "name": "python3"
  },
  "language_info": {
   "codemirror_mode": {
    "name": "ipython",
    "version": 3
   },
   "file_extension": ".py",
   "mimetype": "text/x-python",
   "name": "python",
   "nbconvert_exporter": "python",
   "pygments_lexer": "ipython3",
   "version": "3.7.3"
  },
  "latex_envs": {
   "LaTeX_envs_menu_present": true,
   "autoclose": false,
   "autocomplete": true,
   "bibliofile": "biblio.bib",
   "cite_by": "apalike",
   "current_citInitial": 1,
   "eqLabelWithNumbers": true,
   "eqNumInitial": 1,
   "hotkeys": {
    "equation": "Ctrl-E",
    "itemize": "Ctrl-I"
   },
   "labels_anchors": false,
   "latex_user_defs": false,
   "report_style_numbering": false,
   "user_envs_cfg": false
  }
 },
 "nbformat": 4,
 "nbformat_minor": 4
}

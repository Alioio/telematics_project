{
 "cells": [
  {
   "cell_type": "code",
   "execution_count": 1,
   "metadata": {},
   "outputs": [],
   "source": [
    "import socket\n",
    "import time\n",
    "import json\n",
    "import threading\n",
    "import pandas as pd\n",
    "import re\n",
    "import sys\n",
    "import numpy as np"
   ]
  },
  {
   "cell_type": "markdown",
   "metadata": {},
   "source": [
    "#### This is a visualization of our DNS Zones\n",
    "\n",
    "![zones_telematik.png](zones_telematik.png)"
   ]
  },
  {
   "cell_type": "markdown",
   "metadata": {},
   "source": [
    "### This class is representing a DNS server and is handing all requests and responses to a DNS server"
   ]
  },
  {
   "cell_type": "code",
   "execution_count": 2,
   "metadata": {},
   "outputs": [],
   "source": [
    "class NpEncoder(json.JSONEncoder):\n",
    "    def default(self, obj):\n",
    "        if isinstance(obj, np.integer):\n",
    "            return int(obj)\n",
    "        elif isinstance(obj, np.floating):\n",
    "            return float(obj)\n",
    "        elif isinstance(obj, np.ndarray):\n",
    "            return obj.tolist()\n",
    "        else:\n",
    "            return super(NpEncoder, self).default(obj)\n",
    "        \n",
    "class DNS_server(object):\n",
    "    \n",
    "    #socket = None\n",
    "#     address = None\n",
    "#     port = None\n",
    "    #is_authorative = 0 #is this server an authorative server?\n",
    "    #is_root = 0        #is this server a root server?\n",
    "    #dns_zone = None    #own dns zone as json\n",
    "    #records_in_own_zone = None #all ns and a records in own zone. (this information is alreay \n",
    "                                    #conrained in the dns_zone variable but we are keeping this sepearate variable for now )  \n",
    "    def __init__(self, zone_number, authorative, is_root, seconds=2000,addr='127.0.0.11', port=53053): \n",
    "        self.address = addr\n",
    "        self.port    = port\n",
    "        self.socket = socket.socket(socket.AF_INET, socket.SOCK_DGRAM)\n",
    "        self.is_root = is_root\n",
    "        self.is_authorative = authorative\n",
    "        self.dns_zone, self.records_in_own_zone = self.load_zone(zone_number)\n",
    "\n",
    "    '''loads all entrys for own zone from our json file. \n",
    "    (e.g. zonename: telematik for zone (telematik, swith, router))'''\n",
    "    def load_zone(self, zone_number):\n",
    "        ## load all entries for my zone\n",
    "        with open('names.json') as dnsnamedata:\n",
    "            data = json.load(dnsnamedata)\n",
    "            dns_zone = data[zone_number]\n",
    "        \n",
    "        telematik_dns_dict = {'ns': pd.DataFrame(dns_zone['ns'])['host'].tolist(),\n",
    "                              'a':pd.DataFrame(dns_zone['a'])['value'].tolist(),\n",
    "                              'ttl':pd.DataFrame(dns_zone['a'])['ttl'].tolist()}\n",
    "        records_in_own_zone = pd.DataFrame(telematik_dns_dict, columns = ['ns','a','ttl' ])\n",
    "        return dns_zone, records_in_own_zone\n",
    "       # print('loads the zones')\n",
    "    \n",
    "    '''checks if a requested entry is in own zone. \n",
    "    (e.g. this zonename is telematik and requested address is for dns name www.swith.telematik.\n",
    "    Means that swith is in our zone and we can send the adress for switch.telematik)\n",
    "    Returns None if not. '''\n",
    "    def is_in_own_zone(self, addr):\n",
    "        #names_i_know = pd.DataFrame(data[0]['ns'])['host'].tolist()\n",
    "        \n",
    "        print('check if x is in our zone')\n",
    "        \n",
    "        ns = None\n",
    "        a = None\n",
    "        ttl = None\n",
    "        for counter,name in enumerate (self.records_in_own_zone['ns']):\n",
    "            #define pattern somestring.name\n",
    "            pattern = re.compile(r'(.*?)(\\.'+str(name)+')?$')\n",
    "\n",
    "            #apply the addr we are looking for to the patter and return a list with results\n",
    "            # e.g. ['www.switch', '.telematik'] for mattching or ['www.switch.telematik1', None] for not matching\n",
    "            groups = pattern.match(addr).groups()\n",
    "            if(groups[1] != None): \n",
    "                ns = self.records_in_own_zone['ns'][counter]\n",
    "                a = self.records_in_own_zone['a'][counter]\n",
    "                ttl = self.records_in_own_zone['ttl'][counter]\n",
    "        return ns, a, ttl\n",
    "        #return telematik_dns_df[telematik_dns_df['ns'] == forward_to]\n",
    "    \n",
    "    #check if this dns can send directly the authorative answer?\n",
    "    #def have_authorative_answer():\n",
    "    \n",
    "    def build_response(self, msg_json):\n",
    "        payload= {}\n",
    "        msg = json.loads(msg_json)\n",
    "        if not msg['dns.flags.response']:  # if a question set this flag to 1 (answer)\n",
    "            payload['dns.flags.response'] = 1\n",
    "        else:\n",
    "            payload['dns.flags.response'] = 0  # do nothing??????????????????????\n",
    "        payload['dns.flags.recavail'] = 0\n",
    "        payload['dns.qry.name'] = msg['dns.qry.name']\n",
    "        payload['dns.qry.type'] =  msg['dns.qry.type']                # 1steht für a record \"????????????????????????????????????????\"\n",
    "        ns, a, ttl  = self.is_in_own_zone(msg['dns.qry.name'])\n",
    "        if a == None:\n",
    "            payload['dns.flags.rcode'] = 3\n",
    "        else:\n",
    "            payload['dns.flags.rcode'] = 0\n",
    "        payload['dns.count.answers'] = 1 # es können auch mehrere ip's einen dns vertreten!!!\n",
    "        payload['dns.flags.authoritative'] = self.is_authorative\n",
    "        payload['dns.a'] = a\n",
    "        payload['dns.rsp.ttl.a'] = ttl\n",
    "        payload['dns.ns'] = ns\n",
    "        return payload\n",
    "    \n",
    "#     def build_dataframe():\n",
    "        \n",
    "        \n",
    "#     def write_log():\n",
    "    def response_to_client(payload, client_addr):\n",
    "        \n",
    "        try:\n",
    "            payload['dns.flags.response'] = 'Changed!'\n",
    "            payload_json = json.dumps(payload)\n",
    "            time.sleep(0.5)\n",
    "            server_socket.sendto(bytes(payload_json, 'utf-8'), client_addr)\n",
    "            # nachricht kommt rein \n",
    "            # nachricht wird geschickt\n",
    "        except:\n",
    "            print('could not respond to client: ',client_addr)\n",
    "        \n",
    "    def send_request(self, ip, port, payload):\n",
    "        self.socket.sendto(bytes(payload, 'utf-8'),(ip, port))\n",
    "        print(\"message successfull sended to ip:{} port:{}\\n\".format(ip,port), payload)\n",
    "    #this method is to start a thread to listen and handle requests and responses.\n",
    "    def start(self):\n",
    "        \n",
    "        server_addr = (self.address, self.port)\n",
    "        self.socket.bind(server_addr)\n",
    "        while True:\n",
    "            payload_from_dns, client_addr = self.socket.recvfrom(1024)\n",
    "            #print(json.loads(payload_from_dns))\n",
    "            payload = self.build_response(payload_from_dns)\n",
    "            #print(payload)\n",
    "            client_ip = client_addr[0]\n",
    "            client_port = client_addr[1]\n",
    "            #print(type(payload))\n",
    "#             try:\n",
    "           # tt =json.dumps(payload, cls=NpEncoder)\n",
    "#             except:\n",
    "#                 e = sys.exc_info()[0]\n",
    "            #print(payload)\n",
    "            #print(tt)\n",
    "            self.send_request(client_ip, client_port, json.dumps(payload, cls=NpEncoder, indent=4))\n",
    "            \n",
    "    \n",
    "        "
   ]
  },
  {
   "cell_type": "code",
   "execution_count": 3,
   "metadata": {},
   "outputs": [],
   "source": [
    "t = DNS_server(0,authorative=0,is_root=0)\n",
    "resolver_thread = threading.Thread(target=t.start)\n",
    "resolver_thread.start()"
   ]
  },
  {
   "cell_type": "code",
   "execution_count": 4,
   "metadata": {},
   "outputs": [
    {
     "name": "stdout",
     "output_type": "stream",
     "text": [
      "check if x is in our zone\n",
      "message successfull sended to ip:127.0.0.10 port:53053\n",
      " {\n",
      "    \"dns.flags.response\": 1,\n",
      "    \"dns.flags.recavail\": 0,\n",
      "    \"dns.qry.name\": \".switch.telematik\",\n",
      "    \"dns.qry.type\": 1,\n",
      "    \"dns.flags.rcode\": 0,\n",
      "    \"dns.count.answers\": 1,\n",
      "    \"dns.flags.authoritative\": 0,\n",
      "    \"dns.a\": \"255.255.255.255\",\n",
      "    \"dns.rsp.ttl.a\": 400,\n",
      "    \"dns.ns\": \"switch.telematik\"\n",
      "}\n",
      "check if x is in our zone\n",
      "message successfull sended to ip:127.0.0.10 port:53053\n",
      " {\n",
      "    \"dns.flags.response\": 1,\n",
      "    \"dns.flags.recavail\": 0,\n",
      "    \"dns.qry.name\": \".switch.telematik\",\n",
      "    \"dns.qry.type\": 1,\n",
      "    \"dns.flags.rcode\": 0,\n",
      "    \"dns.count.answers\": 1,\n",
      "    \"dns.flags.authoritative\": 0,\n",
      "    \"dns.a\": \"255.255.255.255\",\n",
      "    \"dns.rsp.ttl.a\": 400,\n",
      "    \"dns.ns\": \"switch.telematik\"\n",
      "}\n"
     ]
    }
   ],
   "source": [
    "a = {'dns.flags.response': 1, 'dns.flags.recavail': 0, 'dns.qry.name': '.switch.telematik', 'dns.qry.type': 1, 'dns.flags.rcode': 0, 'dns.count.answers': 1, 'dns.flags.authoritative': 0, 'dns.a': '255.255.255.255', 'dns.rsp.ttl.a': 400, 'dns.ns': 'switch.telematik'}"
   ]
  },
  {
   "cell_type": "code",
   "execution_count": 7,
   "metadata": {},
   "outputs": [
    {
     "data": {
      "text/plain": [
       "'{\"dns.flags.response\": 1, \"dns.flags.recavail\": 0, \"dns.qry.name\": \".switch.telematik\", \"dns.qry.type\": 1, \"dns.flags.rcode\": 0, \"dns.count.answers\": 1, \"dns.flags.authoritative\": 0, \"dns.a\": \"255.255.255.255\", \"dns.rsp.ttl.a\": 400, \"dns.ns\": \"switch.telematik\"}'"
      ]
     },
     "execution_count": 7,
     "metadata": {},
     "output_type": "execute_result"
    }
   ],
   "source": [
    "json.dumps(a)"
   ]
  },
  {
   "cell_type": "code",
   "execution_count": 9,
   "metadata": {},
   "outputs": [],
   "source": [
    "msg ={\n",
    "    \"dns.flags.response\":0,\n",
    "    \"dns.flags.recdesired\":1,\n",
    "    \"dns.qry.name\":\".switch.telematik\",\n",
    "    \"dns.qry.type\":1\n",
    "}"
   ]
  },
  {
   "cell_type": "code",
   "execution_count": 12,
   "metadata": {},
   "outputs": [],
   "source": [
    "msg_json = json.dumps(msg, indent=4)"
   ]
  },
  {
   "cell_type": "code",
   "execution_count": 13,
   "metadata": {},
   "outputs": [
    {
     "name": "stdout",
     "output_type": "stream",
     "text": [
      "check if x is in our zone\n"
     ]
    },
    {
     "data": {
      "text/plain": [
       "{'dns.flags.response': 1,\n",
       " 'dns.flags.recavail': 0,\n",
       " 'dns.qry.name': '.switch.telematik',\n",
       " 'dns.qry.type': 1,\n",
       " 'dns.flags.rcode': 0,\n",
       " 'dns.count.answers': 1,\n",
       " 'dns.flags.authoritative': 0,\n",
       " 'dns.a': '255.255.255.255',\n",
       " 'dns.rsp.ttl.a': 400,\n",
       " 'dns.ns': 'switch.telematik'}"
      ]
     },
     "execution_count": 13,
     "metadata": {},
     "output_type": "execute_result"
    }
   ],
   "source": [
    "t.build_response(msg_json)"
   ]
  },
  {
   "cell_type": "code",
   "execution_count": 84,
   "metadata": {},
   "outputs": [],
   "source": [
    "payload_dict ={  \n",
    "    \"dns.flags.response\": 1,\n",
    "    \"dns.flags.recdesired\": \"placeholder\",\n",
    "    \"dns.qry.name\": \"placeholder\",\n",
    "    \"dns.qry.type\": \"placeholder\",\n",
    "    \"dns.flags.rcode\": \"placeholder\",\n",
    "    \"dns.count.answers\": \"placeholder\",\n",
    "    \"dns.flags.authoritative\": \"placeholder\",\n",
    "    \"dns.a\": \"127.0.0.10\",\n",
    "    \"dns.ns\": \"www.switch.telematik\",\n",
    "    \"dns.resp.ttl\": 1234,\n",
    "    \"dns.srv.name\": \"placeholder\",\n",
    "    \"dns.srv.port\": \"placeholder\",\n",
    "    \"dns.srv.proto\": \"placeholder\",\n",
    "    \"dns.srv.service\": \"placeholder\",\n",
    "    \"dns.srv.target\": \"placeholder\"\n",
    "}  "
   ]
  },
  {
   "cell_type": "code",
   "execution_count": 82,
   "metadata": {},
   "outputs": [
    {
     "data": {
      "text/plain": [
       "{'dns.flags.response': 1,\n",
       " 'dns.flags.recdesired': 'placeholder',\n",
       " 'dns.qry.name': 'placeholder',\n",
       " 'dns.qry.type': 'placeholder',\n",
       " 'dns.flags.rcode': 'placeholder',\n",
       " 'dns.count.answers': 'placeholder',\n",
       " 'dns.flags.authoritative': 'placeholder',\n",
       " 'dns.a': '127.0.0.10',\n",
       " 'dns.ns': 'www.switch.telematik',\n",
       " 'dns.resp.ttl': 1234,\n",
       " 'dns.srv.name': 'placeholder',\n",
       " 'dns.srv.port': 'placeholder',\n",
       " 'dns.srv.proto': 'placeholder',\n",
       " 'dns.srv.service': 'placeholder',\n",
       " 'dns.srv.target': 'placeholder'}"
      ]
     },
     "execution_count": 82,
     "metadata": {},
     "output_type": "execute_result"
    }
   ],
   "source": [
    "payload_dict"
   ]
  },
  {
   "cell_type": "code",
   "execution_count": null,
   "metadata": {},
   "outputs": [],
   "source": [
    "response_dict ={  \n",
    "    \"dns.flags.response\": \"1\", #Boolean, Frage oder Antwort\n",
    "    \"dns.flags.recavail\": \"0\",#\"dns.flags.recdesired\": \"placeholder\", #Boolean Rekursion oder nicht -> antwort dns.flags.recavail =0 antwort vom authorativen server\n",
    "    \"dns.qry.name\": \"wwlnawrocki.tns\",    #Character string name der zu anfragen den seite wwlnawrocki.tns\n",
    "    \"dns.qry.type\": \"placeholder\", # \tUnsigned integer, 2 bytes, 1= a record, 0 anscheinend nicht\n",
    "    \n",
    "    \"dns.flags.rcode\": \"placeholder\", # Unsigned integer, 2 bytes response code is 0=alles ist k\n",
    "    \"dns.count.answers\": \"placeholder\", # Unsigned integer, 2 bytes wie viele antwortne=1\n",
    "    \"dns.flags.authoritative\": \"placeholder\", # Boolean  die antwort ist autoritative\n",
    "    \n",
    "    \"dns.a\": \" 127.0,0.101\", #IPv4 address      dns.a =\n",
    "    \n",
    "    \"dns.ns\": \"\", #Character string   ttl : 300 , falls dns.qry.type=2\n",
    "    \n",
    "    \"dns.resp.ttl\": 1234, #ttl : 300\n",
    "    \n",
    "    \n",
    "    \n",
    "    \n",
    "    \n",
    "    \n",
    "    \"dns.srv.name\": \"placeholder\",  #Character string\n",
    "    \"dns.srv.port\": \"placeholder\",  #Unsigned integer, 2 bytes\n",
    "    \"dns.srv.proto\": \"placeholder\",  #Character string\n",
    "    \"dns.srv.service\": \"placeholder\", #Character string\n",
    "    \"dns.srv.target\": \"placeholder\"  #Character string\n",
    "}  "
   ]
  },
  {
   "cell_type": "code",
   "execution_count": 69,
   "metadata": {},
   "outputs": [],
   "source": [
    "t =DNS_server(0,authorative=0,is_root=0)"
   ]
  },
  {
   "cell_type": "code",
   "execution_count": 70,
   "metadata": {},
   "outputs": [
    {
     "ename": "TypeError",
     "evalue": "load_zone() missing 1 required positional argument: 'zone_number'",
     "output_type": "error",
     "traceback": [
      "\u001b[1;31m---------------------------------------------------------------------------\u001b[0m",
      "\u001b[1;31mTypeError\u001b[0m                                 Traceback (most recent call last)",
      "\u001b[1;32m<ipython-input-70-35555ce36613>\u001b[0m in \u001b[0;36m<module>\u001b[1;34m\u001b[0m\n\u001b[1;32m----> 1\u001b[1;33m \u001b[0mt\u001b[0m\u001b[1;33m.\u001b[0m\u001b[0mload_zone\u001b[0m\u001b[1;33m(\u001b[0m\u001b[1;33m)\u001b[0m\u001b[1;33m\u001b[0m\u001b[1;33m\u001b[0m\u001b[0m\n\u001b[0m\u001b[0;32m      2\u001b[0m \u001b[0mt\u001b[0m\u001b[1;33m.\u001b[0m\u001b[0mdns_zone\u001b[0m\u001b[1;33m\u001b[0m\u001b[1;33m\u001b[0m\u001b[0m\n",
      "\u001b[1;31mTypeError\u001b[0m: load_zone() missing 1 required positional argument: 'zone_number'"
     ]
    }
   ],
   "source": [
    "t.load_zone()\n",
    "t.dns_zone"
   ]
  },
  {
   "cell_type": "code",
   "execution_count": 71,
   "metadata": {},
   "outputs": [],
   "source": [
    "# t = [x for x in t.records_in_own_zone[\"ns\"]]"
   ]
  },
  {
   "cell_type": "code",
   "execution_count": 72,
   "metadata": {},
   "outputs": [
    {
     "name": "stdout",
     "output_type": "stream",
     "text": [
      "check if x is in our zone\n"
     ]
    },
    {
     "data": {
      "text/plain": [
       "('.router.telematik', '127.0.0.13')"
      ]
     },
     "execution_count": 72,
     "metadata": {},
     "output_type": "execute_result"
    }
   ],
   "source": [
    "t.is_in_own_zone('.router.telematik')"
   ]
  },
  {
   "cell_type": "code",
   "execution_count": 73,
   "metadata": {},
   "outputs": [],
   "source": [
    "pattern = re.compile(r'(.*?)(\\.'+str('switch.telematik')+')?$')"
   ]
  },
  {
   "cell_type": "code",
   "execution_count": 30,
   "metadata": {},
   "outputs": [
    {
     "data": {
      "text/plain": [
       "re.compile(r'(.*?)(\\.switch.telematik)?$', re.UNICODE)"
      ]
     },
     "execution_count": 30,
     "metadata": {},
     "output_type": "execute_result"
    }
   ],
   "source": [
    "pattern"
   ]
  },
  {
   "cell_type": "code",
   "execution_count": 27,
   "metadata": {},
   "outputs": [],
   "source": [
    "pattern = re.compile(r'(.*?)(\\.'+str(\"test\")+')?$')"
   ]
  },
  {
   "cell_type": "code",
   "execution_count": 36,
   "metadata": {},
   "outputs": [
    {
     "data": {
      "text/plain": [
       "('mail', '.switch.telematik')"
      ]
     },
     "execution_count": 36,
     "metadata": {},
     "output_type": "execute_result"
    }
   ],
   "source": [
    "pattern.match('mail.switch.telematik').groups()"
   ]
  },
  {
   "cell_type": "code",
   "execution_count": 26,
   "metadata": {},
   "outputs": [
    {
     "data": {
      "text/plain": [
       "5"
      ]
     },
     "execution_count": 26,
     "metadata": {},
     "output_type": "execute_result"
    }
   ],
   "source": [
    "z2.t"
   ]
  },
  {
   "cell_type": "code",
   "execution_count": 27,
   "metadata": {},
   "outputs": [],
   "source": [
    "z2.t = 3"
   ]
  },
  {
   "cell_type": "code",
   "execution_count": 28,
   "metadata": {},
   "outputs": [
    {
     "data": {
      "text/plain": [
       "3"
      ]
     },
     "execution_count": 28,
     "metadata": {},
     "output_type": "execute_result"
    }
   ],
   "source": [
    "z2.t"
   ]
  },
  {
   "cell_type": "code",
   "execution_count": 29,
   "metadata": {},
   "outputs": [
    {
     "data": {
      "text/plain": [
       "5"
      ]
     },
     "execution_count": 29,
     "metadata": {},
     "output_type": "execute_result"
    }
   ],
   "source": [
    "z.t"
   ]
  },
  {
   "cell_type": "code",
   "execution_count": 30,
   "metadata": {},
   "outputs": [
    {
     "data": {
      "text/plain": [
       "5"
      ]
     },
     "execution_count": 30,
     "metadata": {},
     "output_type": "execute_result"
    }
   ],
   "source": [
    "z.t"
   ]
  },
  {
   "cell_type": "code",
   "execution_count": 37,
   "metadata": {},
   "outputs": [
    {
     "data": {
      "text/plain": [
       "6"
      ]
     },
     "execution_count": 37,
     "metadata": {},
     "output_type": "execute_result"
    }
   ],
   "source": [
    "test.t"
   ]
  },
  {
   "cell_type": "code",
   "execution_count": 32,
   "metadata": {},
   "outputs": [
    {
     "data": {
      "text/plain": [
       "3"
      ]
     },
     "execution_count": 32,
     "metadata": {},
     "output_type": "execute_result"
    }
   ],
   "source": [
    "z2.t"
   ]
  },
  {
   "cell_type": "code",
   "execution_count": 143,
   "metadata": {},
   "outputs": [],
   "source": [
    "\n",
    "city = pd.DataFrame([['Sacramento', 'California'], ['Miami', 'Florida']], columns=['City', 'State'])\n"
   ]
  },
  {
   "cell_type": "code",
   "execution_count": 147,
   "metadata": {},
   "outputs": [
    {
     "data": {
      "text/html": [
       "<div>\n",
       "<style scoped>\n",
       "    .dataframe tbody tr th:only-of-type {\n",
       "        vertical-align: middle;\n",
       "    }\n",
       "\n",
       "    .dataframe tbody tr th {\n",
       "        vertical-align: top;\n",
       "    }\n",
       "\n",
       "    .dataframe thead th {\n",
       "        text-align: right;\n",
       "    }\n",
       "</style>\n",
       "<table border=\"1\" class=\"dataframe\">\n",
       "  <thead>\n",
       "    <tr style=\"text-align: right;\">\n",
       "      <th></th>\n",
       "      <th>City</th>\n",
       "      <th>State</th>\n",
       "    </tr>\n",
       "  </thead>\n",
       "  <tbody>\n",
       "    <tr>\n",
       "      <th>0</th>\n",
       "      <td>Sacramento</td>\n",
       "      <td>California</td>\n",
       "    </tr>\n",
       "    <tr>\n",
       "      <th>1</th>\n",
       "      <td>Miami</td>\n",
       "      <td>Florida</td>\n",
       "    </tr>\n",
       "  </tbody>\n",
       "</table>\n",
       "</div>"
      ],
      "text/plain": [
       "         City       State\n",
       "0  Sacramento  California\n",
       "1       Miami     Florida"
      ]
     },
     "execution_count": 147,
     "metadata": {},
     "output_type": "execute_result"
    }
   ],
   "source": [
    "city"
   ]
  },
  {
   "cell_type": "code",
   "execution_count": 148,
   "metadata": {},
   "outputs": [],
   "source": [
    "city.to_csv('city2.csv')"
   ]
  },
  {
   "cell_type": "code",
   "execution_count": 172,
   "metadata": {},
   "outputs": [],
   "source": [
    "payload_dict ={  \n",
    "    \"dns.flags.response\": 0,\n",
    "    \"dns.flags.recdesired\": \"placeholder\",\n",
    "    \"dns.qry.name\": \"placeholder\",\n",
    "    \"dns.qry.type\": \"placeholder\",\n",
    "    \"dns.flags.rcode\": \"placeholder\",\n",
    "    \"dns.count.answers\": \"placeholder\",\n",
    "    \"dns.flags.authoritative\": \"placeholder\",\n",
    "    \"dns.a\": \"127.0.0.10\",\n",
    "    \"dns.ns\": \"www.switch.telematik\",\n",
    "    \"dns.resp.ttl\": 1234,\n",
    "    \"dns.srv.name\": \"placeholder\",\n",
    "    \"dns.srv.port\": \"placeholder\",\n",
    "    \"dns.srv.proto\": \"placeholder\",\n",
    "    \"dns.srv.service\": \"placeholder\",\n",
    "    \"dns.srv.target\": \"placeholder\"\n",
    "}  "
   ]
  },
  {
   "cell_type": "code",
   "execution_count": 173,
   "metadata": {},
   "outputs": [],
   "source": [
    "keys = list(payload_dict.keys())"
   ]
  },
  {
   "cell_type": "code",
   "execution_count": 174,
   "metadata": {},
   "outputs": [],
   "source": [
    "values = list(payload_dict.values())"
   ]
  },
  {
   "cell_type": "code",
   "execution_count": 175,
   "metadata": {},
   "outputs": [],
   "source": [
    "testos = pd.DataFrame(values, keys)"
   ]
  },
  {
   "cell_type": "code",
   "execution_count": 168,
   "metadata": {},
   "outputs": [],
   "source": [
    "testos.to_csv('city23.csv')"
   ]
  },
  {
   "cell_type": "code",
   "execution_count": 176,
   "metadata": {},
   "outputs": [],
   "source": [
    "col_names = keys\n",
    "titanic_data = pd.read_csv('city23.csv', names=col_names, header=None)"
   ]
  },
  {
   "cell_type": "code",
   "execution_count": 171,
   "metadata": {},
   "outputs": [
    {
     "data": {
      "text/html": [
       "<div>\n",
       "<style scoped>\n",
       "    .dataframe tbody tr th:only-of-type {\n",
       "        vertical-align: middle;\n",
       "    }\n",
       "\n",
       "    .dataframe tbody tr th {\n",
       "        vertical-align: top;\n",
       "    }\n",
       "\n",
       "    .dataframe thead th {\n",
       "        text-align: right;\n",
       "    }\n",
       "</style>\n",
       "<table border=\"1\" class=\"dataframe\">\n",
       "  <thead>\n",
       "    <tr style=\"text-align: right;\">\n",
       "      <th></th>\n",
       "      <th>dns.flags.response</th>\n",
       "      <th>dns.flags.recdesired</th>\n",
       "      <th>dns.qry.name</th>\n",
       "      <th>dns.qry.type</th>\n",
       "      <th>dns.flags.rcode</th>\n",
       "      <th>dns.count.answers</th>\n",
       "      <th>dns.flags.authoritative</th>\n",
       "      <th>dns.a</th>\n",
       "      <th>dns.ns</th>\n",
       "      <th>dns.resp.ttl</th>\n",
       "      <th>dns.srv.name</th>\n",
       "      <th>dns.srv.port</th>\n",
       "      <th>dns.srv.proto</th>\n",
       "      <th>dns.srv.service</th>\n",
       "      <th>dns.srv.target</th>\n",
       "    </tr>\n",
       "  </thead>\n",
       "  <tbody>\n",
       "    <tr>\n",
       "      <th>0</th>\n",
       "      <td>NaN</td>\n",
       "      <td>0</td>\n",
       "      <td>NaN</td>\n",
       "      <td>NaN</td>\n",
       "      <td>NaN</td>\n",
       "      <td>NaN</td>\n",
       "      <td>NaN</td>\n",
       "      <td>NaN</td>\n",
       "      <td>NaN</td>\n",
       "      <td>NaN</td>\n",
       "      <td>NaN</td>\n",
       "      <td>NaN</td>\n",
       "      <td>NaN</td>\n",
       "      <td>NaN</td>\n",
       "      <td>NaN</td>\n",
       "    </tr>\n",
       "    <tr>\n",
       "      <th>1</th>\n",
       "      <td>dns.flags.response</td>\n",
       "      <td>0</td>\n",
       "      <td>NaN</td>\n",
       "      <td>NaN</td>\n",
       "      <td>NaN</td>\n",
       "      <td>NaN</td>\n",
       "      <td>NaN</td>\n",
       "      <td>NaN</td>\n",
       "      <td>NaN</td>\n",
       "      <td>NaN</td>\n",
       "      <td>NaN</td>\n",
       "      <td>NaN</td>\n",
       "      <td>NaN</td>\n",
       "      <td>NaN</td>\n",
       "      <td>NaN</td>\n",
       "    </tr>\n",
       "    <tr>\n",
       "      <th>2</th>\n",
       "      <td>dns.flags.recdesired</td>\n",
       "      <td>placeholder</td>\n",
       "      <td>NaN</td>\n",
       "      <td>NaN</td>\n",
       "      <td>NaN</td>\n",
       "      <td>NaN</td>\n",
       "      <td>NaN</td>\n",
       "      <td>NaN</td>\n",
       "      <td>NaN</td>\n",
       "      <td>NaN</td>\n",
       "      <td>NaN</td>\n",
       "      <td>NaN</td>\n",
       "      <td>NaN</td>\n",
       "      <td>NaN</td>\n",
       "      <td>NaN</td>\n",
       "    </tr>\n",
       "    <tr>\n",
       "      <th>3</th>\n",
       "      <td>dns.qry.name</td>\n",
       "      <td>placeholder</td>\n",
       "      <td>NaN</td>\n",
       "      <td>NaN</td>\n",
       "      <td>NaN</td>\n",
       "      <td>NaN</td>\n",
       "      <td>NaN</td>\n",
       "      <td>NaN</td>\n",
       "      <td>NaN</td>\n",
       "      <td>NaN</td>\n",
       "      <td>NaN</td>\n",
       "      <td>NaN</td>\n",
       "      <td>NaN</td>\n",
       "      <td>NaN</td>\n",
       "      <td>NaN</td>\n",
       "    </tr>\n",
       "    <tr>\n",
       "      <th>4</th>\n",
       "      <td>dns.qry.type</td>\n",
       "      <td>placeholder</td>\n",
       "      <td>NaN</td>\n",
       "      <td>NaN</td>\n",
       "      <td>NaN</td>\n",
       "      <td>NaN</td>\n",
       "      <td>NaN</td>\n",
       "      <td>NaN</td>\n",
       "      <td>NaN</td>\n",
       "      <td>NaN</td>\n",
       "      <td>NaN</td>\n",
       "      <td>NaN</td>\n",
       "      <td>NaN</td>\n",
       "      <td>NaN</td>\n",
       "      <td>NaN</td>\n",
       "    </tr>\n",
       "    <tr>\n",
       "      <th>5</th>\n",
       "      <td>dns.flags.rcode</td>\n",
       "      <td>placeholder</td>\n",
       "      <td>NaN</td>\n",
       "      <td>NaN</td>\n",
       "      <td>NaN</td>\n",
       "      <td>NaN</td>\n",
       "      <td>NaN</td>\n",
       "      <td>NaN</td>\n",
       "      <td>NaN</td>\n",
       "      <td>NaN</td>\n",
       "      <td>NaN</td>\n",
       "      <td>NaN</td>\n",
       "      <td>NaN</td>\n",
       "      <td>NaN</td>\n",
       "      <td>NaN</td>\n",
       "    </tr>\n",
       "    <tr>\n",
       "      <th>6</th>\n",
       "      <td>dns.count.answers</td>\n",
       "      <td>placeholder</td>\n",
       "      <td>NaN</td>\n",
       "      <td>NaN</td>\n",
       "      <td>NaN</td>\n",
       "      <td>NaN</td>\n",
       "      <td>NaN</td>\n",
       "      <td>NaN</td>\n",
       "      <td>NaN</td>\n",
       "      <td>NaN</td>\n",
       "      <td>NaN</td>\n",
       "      <td>NaN</td>\n",
       "      <td>NaN</td>\n",
       "      <td>NaN</td>\n",
       "      <td>NaN</td>\n",
       "    </tr>\n",
       "    <tr>\n",
       "      <th>7</th>\n",
       "      <td>dns.flags.authoritative</td>\n",
       "      <td>placeholder</td>\n",
       "      <td>NaN</td>\n",
       "      <td>NaN</td>\n",
       "      <td>NaN</td>\n",
       "      <td>NaN</td>\n",
       "      <td>NaN</td>\n",
       "      <td>NaN</td>\n",
       "      <td>NaN</td>\n",
       "      <td>NaN</td>\n",
       "      <td>NaN</td>\n",
       "      <td>NaN</td>\n",
       "      <td>NaN</td>\n",
       "      <td>NaN</td>\n",
       "      <td>NaN</td>\n",
       "    </tr>\n",
       "    <tr>\n",
       "      <th>8</th>\n",
       "      <td>dns.a</td>\n",
       "      <td>127.0.0.10</td>\n",
       "      <td>NaN</td>\n",
       "      <td>NaN</td>\n",
       "      <td>NaN</td>\n",
       "      <td>NaN</td>\n",
       "      <td>NaN</td>\n",
       "      <td>NaN</td>\n",
       "      <td>NaN</td>\n",
       "      <td>NaN</td>\n",
       "      <td>NaN</td>\n",
       "      <td>NaN</td>\n",
       "      <td>NaN</td>\n",
       "      <td>NaN</td>\n",
       "      <td>NaN</td>\n",
       "    </tr>\n",
       "    <tr>\n",
       "      <th>9</th>\n",
       "      <td>dns.ns</td>\n",
       "      <td>www.switch.telematik</td>\n",
       "      <td>NaN</td>\n",
       "      <td>NaN</td>\n",
       "      <td>NaN</td>\n",
       "      <td>NaN</td>\n",
       "      <td>NaN</td>\n",
       "      <td>NaN</td>\n",
       "      <td>NaN</td>\n",
       "      <td>NaN</td>\n",
       "      <td>NaN</td>\n",
       "      <td>NaN</td>\n",
       "      <td>NaN</td>\n",
       "      <td>NaN</td>\n",
       "      <td>NaN</td>\n",
       "    </tr>\n",
       "    <tr>\n",
       "      <th>10</th>\n",
       "      <td>dns.resp.ttl</td>\n",
       "      <td>1234</td>\n",
       "      <td>NaN</td>\n",
       "      <td>NaN</td>\n",
       "      <td>NaN</td>\n",
       "      <td>NaN</td>\n",
       "      <td>NaN</td>\n",
       "      <td>NaN</td>\n",
       "      <td>NaN</td>\n",
       "      <td>NaN</td>\n",
       "      <td>NaN</td>\n",
       "      <td>NaN</td>\n",
       "      <td>NaN</td>\n",
       "      <td>NaN</td>\n",
       "      <td>NaN</td>\n",
       "    </tr>\n",
       "    <tr>\n",
       "      <th>11</th>\n",
       "      <td>dns.srv.name</td>\n",
       "      <td>placeholder</td>\n",
       "      <td>NaN</td>\n",
       "      <td>NaN</td>\n",
       "      <td>NaN</td>\n",
       "      <td>NaN</td>\n",
       "      <td>NaN</td>\n",
       "      <td>NaN</td>\n",
       "      <td>NaN</td>\n",
       "      <td>NaN</td>\n",
       "      <td>NaN</td>\n",
       "      <td>NaN</td>\n",
       "      <td>NaN</td>\n",
       "      <td>NaN</td>\n",
       "      <td>NaN</td>\n",
       "    </tr>\n",
       "    <tr>\n",
       "      <th>12</th>\n",
       "      <td>dns.srv.port</td>\n",
       "      <td>placeholder</td>\n",
       "      <td>NaN</td>\n",
       "      <td>NaN</td>\n",
       "      <td>NaN</td>\n",
       "      <td>NaN</td>\n",
       "      <td>NaN</td>\n",
       "      <td>NaN</td>\n",
       "      <td>NaN</td>\n",
       "      <td>NaN</td>\n",
       "      <td>NaN</td>\n",
       "      <td>NaN</td>\n",
       "      <td>NaN</td>\n",
       "      <td>NaN</td>\n",
       "      <td>NaN</td>\n",
       "    </tr>\n",
       "    <tr>\n",
       "      <th>13</th>\n",
       "      <td>dns.srv.proto</td>\n",
       "      <td>placeholder</td>\n",
       "      <td>NaN</td>\n",
       "      <td>NaN</td>\n",
       "      <td>NaN</td>\n",
       "      <td>NaN</td>\n",
       "      <td>NaN</td>\n",
       "      <td>NaN</td>\n",
       "      <td>NaN</td>\n",
       "      <td>NaN</td>\n",
       "      <td>NaN</td>\n",
       "      <td>NaN</td>\n",
       "      <td>NaN</td>\n",
       "      <td>NaN</td>\n",
       "      <td>NaN</td>\n",
       "    </tr>\n",
       "    <tr>\n",
       "      <th>14</th>\n",
       "      <td>dns.srv.service</td>\n",
       "      <td>placeholder</td>\n",
       "      <td>NaN</td>\n",
       "      <td>NaN</td>\n",
       "      <td>NaN</td>\n",
       "      <td>NaN</td>\n",
       "      <td>NaN</td>\n",
       "      <td>NaN</td>\n",
       "      <td>NaN</td>\n",
       "      <td>NaN</td>\n",
       "      <td>NaN</td>\n",
       "      <td>NaN</td>\n",
       "      <td>NaN</td>\n",
       "      <td>NaN</td>\n",
       "      <td>NaN</td>\n",
       "    </tr>\n",
       "    <tr>\n",
       "      <th>15</th>\n",
       "      <td>dns.srv.target</td>\n",
       "      <td>placeholder</td>\n",
       "      <td>NaN</td>\n",
       "      <td>NaN</td>\n",
       "      <td>NaN</td>\n",
       "      <td>NaN</td>\n",
       "      <td>NaN</td>\n",
       "      <td>NaN</td>\n",
       "      <td>NaN</td>\n",
       "      <td>NaN</td>\n",
       "      <td>NaN</td>\n",
       "      <td>NaN</td>\n",
       "      <td>NaN</td>\n",
       "      <td>NaN</td>\n",
       "      <td>NaN</td>\n",
       "    </tr>\n",
       "  </tbody>\n",
       "</table>\n",
       "</div>"
      ],
      "text/plain": [
       "         dns.flags.response  dns.flags.recdesired  dns.qry.name  dns.qry.type  \\\n",
       "0                       NaN                     0           NaN           NaN   \n",
       "1        dns.flags.response                     0           NaN           NaN   \n",
       "2      dns.flags.recdesired           placeholder           NaN           NaN   \n",
       "3              dns.qry.name           placeholder           NaN           NaN   \n",
       "4              dns.qry.type           placeholder           NaN           NaN   \n",
       "5           dns.flags.rcode           placeholder           NaN           NaN   \n",
       "6         dns.count.answers           placeholder           NaN           NaN   \n",
       "7   dns.flags.authoritative           placeholder           NaN           NaN   \n",
       "8                     dns.a            127.0.0.10           NaN           NaN   \n",
       "9                    dns.ns  www.switch.telematik           NaN           NaN   \n",
       "10             dns.resp.ttl                  1234           NaN           NaN   \n",
       "11             dns.srv.name           placeholder           NaN           NaN   \n",
       "12             dns.srv.port           placeholder           NaN           NaN   \n",
       "13            dns.srv.proto           placeholder           NaN           NaN   \n",
       "14          dns.srv.service           placeholder           NaN           NaN   \n",
       "15           dns.srv.target           placeholder           NaN           NaN   \n",
       "\n",
       "    dns.flags.rcode  dns.count.answers  dns.flags.authoritative  dns.a  \\\n",
       "0               NaN                NaN                      NaN    NaN   \n",
       "1               NaN                NaN                      NaN    NaN   \n",
       "2               NaN                NaN                      NaN    NaN   \n",
       "3               NaN                NaN                      NaN    NaN   \n",
       "4               NaN                NaN                      NaN    NaN   \n",
       "5               NaN                NaN                      NaN    NaN   \n",
       "6               NaN                NaN                      NaN    NaN   \n",
       "7               NaN                NaN                      NaN    NaN   \n",
       "8               NaN                NaN                      NaN    NaN   \n",
       "9               NaN                NaN                      NaN    NaN   \n",
       "10              NaN                NaN                      NaN    NaN   \n",
       "11              NaN                NaN                      NaN    NaN   \n",
       "12              NaN                NaN                      NaN    NaN   \n",
       "13              NaN                NaN                      NaN    NaN   \n",
       "14              NaN                NaN                      NaN    NaN   \n",
       "15              NaN                NaN                      NaN    NaN   \n",
       "\n",
       "    dns.ns  dns.resp.ttl  dns.srv.name  dns.srv.port  dns.srv.proto  \\\n",
       "0      NaN           NaN           NaN           NaN            NaN   \n",
       "1      NaN           NaN           NaN           NaN            NaN   \n",
       "2      NaN           NaN           NaN           NaN            NaN   \n",
       "3      NaN           NaN           NaN           NaN            NaN   \n",
       "4      NaN           NaN           NaN           NaN            NaN   \n",
       "5      NaN           NaN           NaN           NaN            NaN   \n",
       "6      NaN           NaN           NaN           NaN            NaN   \n",
       "7      NaN           NaN           NaN           NaN            NaN   \n",
       "8      NaN           NaN           NaN           NaN            NaN   \n",
       "9      NaN           NaN           NaN           NaN            NaN   \n",
       "10     NaN           NaN           NaN           NaN            NaN   \n",
       "11     NaN           NaN           NaN           NaN            NaN   \n",
       "12     NaN           NaN           NaN           NaN            NaN   \n",
       "13     NaN           NaN           NaN           NaN            NaN   \n",
       "14     NaN           NaN           NaN           NaN            NaN   \n",
       "15     NaN           NaN           NaN           NaN            NaN   \n",
       "\n",
       "    dns.srv.service  dns.srv.target  \n",
       "0               NaN             NaN  \n",
       "1               NaN             NaN  \n",
       "2               NaN             NaN  \n",
       "3               NaN             NaN  \n",
       "4               NaN             NaN  \n",
       "5               NaN             NaN  \n",
       "6               NaN             NaN  \n",
       "7               NaN             NaN  \n",
       "8               NaN             NaN  \n",
       "9               NaN             NaN  \n",
       "10              NaN             NaN  \n",
       "11              NaN             NaN  \n",
       "12              NaN             NaN  \n",
       "13              NaN             NaN  \n",
       "14              NaN             NaN  \n",
       "15              NaN             NaN  "
      ]
     },
     "execution_count": 171,
     "metadata": {},
     "output_type": "execute_result"
    }
   ],
   "source": [
    "titanic_data"
   ]
  },
  {
   "cell_type": "code",
   "execution_count": null,
   "metadata": {},
   "outputs": [],
   "source": []
  }
 ],
 "metadata": {
  "kernelspec": {
   "display_name": "Python 3",
   "language": "python",
   "name": "python3"
  },
  "language_info": {
   "codemirror_mode": {
    "name": "ipython",
    "version": 3
   },
   "file_extension": ".py",
   "mimetype": "text/x-python",
   "name": "python",
   "nbconvert_exporter": "python",
   "pygments_lexer": "ipython3",
   "version": "3.7.6"
  },
  "latex_envs": {
   "LaTeX_envs_menu_present": true,
   "autoclose": false,
   "autocomplete": true,
   "bibliofile": "biblio.bib",
   "cite_by": "apalike",
   "current_citInitial": 1,
   "eqLabelWithNumbers": true,
   "eqNumInitial": 1,
   "hotkeys": {
    "equation": "Ctrl-E",
    "itemize": "Ctrl-I"
   },
   "labels_anchors": false,
   "latex_user_defs": false,
   "report_style_numbering": false,
   "user_envs_cfg": false
  }
 },
 "nbformat": 4,
 "nbformat_minor": 4
}

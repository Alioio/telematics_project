{
 "cells": [
  {
   "cell_type": "code",
   "execution_count": 1,
   "metadata": {},
   "outputs": [],
   "source": [
    "import socket\n",
    "import time\n",
    "import json\n",
    "import threading\n",
    "import pandas as pd\n",
    "import re\n",
    "import sys\n",
    "import numpy as np\n",
    "import os\n",
    "from datetime import datetime\n",
    "\n"
   ]
  },
  {
   "cell_type": "markdown",
   "metadata": {},
   "source": [
    "#### This is a visualization of our DNS Zones\n",
    "\n",
    "![zones_telematik.png](zones_telematik.png)"
   ]
  },
  {
   "cell_type": "markdown",
   "metadata": {},
   "source": [
    "### This class is representing a DNS server and is handing all requests and responses to a DNS server"
   ]
  },
  {
   "cell_type": "code",
   "execution_count": 2,
   "metadata": {},
   "outputs": [],
   "source": [
    "class NpEncoder(json.JSONEncoder):\n",
    "    def default(self, obj):\n",
    "        if isinstance(obj, np.integer):\n",
    "            return int(obj)\n",
    "        elif isinstance(obj, np.floating):\n",
    "            return float(obj)\n",
    "        elif isinstance(obj, np.ndarray):\n",
    "            return obj.tolist()\n",
    "        else:\n",
    "            return super(NpEncoder, self).default(obj)\n",
    "  \n",
    "#     def load_config(self):\n",
    "#         ## load all entries for my zone\n",
    "#         with open('names.json') as dnsnamedata:\n",
    "#             data = json.load(dnsnamedata)\n",
    "#             dns_zone = data[zone_number]\n",
    "class DNS(object):\n",
    "    stop_threads= False\n",
    "    #socket = None\n",
    "#     address = None\n",
    "#     port = None\n",
    "    #is_authorative = 0 #is this server an authorative server?\n",
    "    #is_root = 0        #is this server a root server?\n",
    "    #dns_zone = None    #own dns zone as json\n",
    "    #records_in_own_zone = None #all ns and a records in own zone. (this information is alreay \n",
    "                                    #conrained in the dns_zone variable but we are keeping this sepearate variable for now )  \n",
    "#     def __init__(self, zone_number, authorative, is_root, seconds=2000,addr='127.0.0.11', port=53053): \n",
    "#         self.address = addr\n",
    "#         self.port    = port\n",
    "    def __init__(self, config, seconds=2000): \n",
    "        self.config = config\n",
    "        self.origin = config[\"$origin\"]\n",
    "        self.ip = config[\"$ip\"]\n",
    "        self.port  = config[\"$port\"]\n",
    "        self.is_authorative = config[\"$authorative\"]\n",
    "        self.root = config[\"$root\"]\n",
    "        self.socket = socket.socket(socket.AF_INET, socket.SOCK_DGRAM)\n",
    "        self.run_thread = True\n",
    "        self.req_snd=0\n",
    "        self.req_rcv=0\n",
    "        self.resp_snd=0\n",
    "        self.resp_rcv=0\n",
    "        self.log_df=None\n",
    "        #self.is_root = is_root\n",
    "        self.records_in_own_zone = self.load_records()\n",
    "        self.socket.bind((self.ip,self.port))\n",
    "        if os.path.exists(\"{}.csv\".format(self.ip)):\n",
    "            os.remove(\"{}.csv\".format(self.ip))\n",
    "\n",
    "    '''loads all entrys for own zone from our json file. \n",
    "    (e.g. zonename: telematik for zone (telematik, swith, router))'''\n",
    "    def load_records(self):\n",
    "        ## load the records from the config\n",
    "        \n",
    "        telematik_dns_dict = {'ns': pd.DataFrame(self.config['ns'])['host'].tolist(),\n",
    "                              'a':pd.DataFrame(self.config['a'])['value'].tolist(),\n",
    "                              'ttl':pd.DataFrame(self.config['a'])['ttl'].tolist()}\n",
    "        records_in_own_zone = pd.DataFrame(telematik_dns_dict, columns = ['ns','a','ttl' ])\n",
    "        return records_in_own_zone\n",
    "\n",
    "    \n",
    "    '''checks if a requested entry is in own zone. \n",
    "    (e.g. this zonename is telematik and requested address is for dns name www.swith.telematik.\n",
    "    Means that swith is in our zone and we can send the adress for switch.telematik)\n",
    "    Returns None if not. '''\n",
    "    def is_in_own_zone(self, qry_name):\n",
    "        #names_i_know = pd.DataFrame(data[0]['ns'])['host'].tolist()\n",
    "        \n",
    "        print('check if {} is in our zone'.format(qry_name))\n",
    "        \n",
    "        ns = None\n",
    "        a = None\n",
    "        ttl = None\n",
    "        for counter,name in enumerate (self.records_in_own_zone['ns']):\n",
    "            #define pattern somestring.name\n",
    "            pattern = re.compile(r'(.*?)('+str(name)+')?$')\n",
    "\n",
    "            #apply the qry_name we are looking for to the patter and return a list with results\n",
    "            # e.g. ['www.switch', '.telematik'] for mattching or ['www.switch.telematik1', None] for not matching\n",
    "            groups = pattern.match(qry_name).groups()\n",
    "            if(groups[1] != None): \n",
    "                ns = self.records_in_own_zone['ns'][counter]\n",
    "                a = self.records_in_own_zone['a'][counter]\n",
    "                ttl = self.records_in_own_zone['ttl'][counter]\n",
    "        return ns, a, ttl\n",
    "        #return telematik_dns_df[telematik_dns_df['ns'] == forward_to]\n",
    "    \n",
    "    #check if this dns can send directly the authorative answer?\n",
    "    #def have_authorative_answer():\n",
    "    \n",
    "    def build_response(self, msg_json):\n",
    "        payload= {}\n",
    "        msg = json.loads(msg_json)\n",
    "        if not msg['dns.flags.response']:  # if a question set this flag to 1 (answer)\n",
    "            payload['dns.flags.response'] = 1\n",
    "        else:\n",
    "            payload['dns.flags.response'] = 0  # do nothing??????????????????????\n",
    "        payload['dns.flags.recavail'] = 0\n",
    "        payload['dns.qry.name'] = msg['dns.qry.name']\n",
    "        payload['dns.qry.type'] =  msg['dns.qry.type']                # 1steht für a record \"????????????????????????????????????????\"\n",
    "        ns, a, ttl  = self.is_in_own_zone(msg['dns.qry.name'])\n",
    "        if a == None:\n",
    "            payload['dns.flags.rcode'] = 3\n",
    "        else:\n",
    "            payload['dns.flags.rcode'] = 0\n",
    "        payload['dns.count.answers'] = 1 # es können auch mehrere ip's einen dns vertreten!!!\n",
    "        payload['dns.flags.authoritative'] = self.is_authorative\n",
    "        payload['dns.a'] = a\n",
    "        payload['dns.rsp.ttl.a'] = ttl\n",
    "        payload['dns.ns'] = ns\n",
    "        return payload\n",
    "    \n",
    "#     def build_dataframe():\n",
    "        \n",
    "        \n",
    "#     def write_log():\n",
    "    def response_to_client(payload, client_addr):\n",
    "        \n",
    "        try:\n",
    "            payload['dns.flags.response'] = 'Changed!'\n",
    "            payload_json = json.dumps(payload)\n",
    "            time.sleep(0.5)\n",
    "            server_socket.sendto(bytes(payload_json, 'utf-8'), client_addr)\n",
    "            # nachricht kommt rein \n",
    "            # nachricht wird geschickt\n",
    "        except:\n",
    "            print('could not respond to client: ',client_addr)\n",
    "        \n",
    "    def send_request(self, ip, port, payload_json):\n",
    "        self.socket.sendto(bytes(payload_json, 'utf-8'),(ip, port))\n",
    "        print(\"message successfull sended to ip:{} port:{}\\n\".format(ip,port), payload_json)\n",
    "    #this method is to start a thread to listen and handle requests and responses.\n",
    "    \n",
    "    def write_log(self,rec, payload, ip, port, rec_time):\n",
    "    \n",
    "        if rec:\n",
    "            if payload['dns.flags.response']==1:\n",
    "                self.resp_rcv += 1\n",
    "            else: \n",
    "                self.req_rcv +=1\n",
    "        else:\n",
    "            if payload['dns.flags.response']==1:\n",
    "                self.resp_snd += 1\n",
    "            else: \n",
    "                self.req_snd +=1\n",
    "        entry_values = [rec_time, ip, self.req_snd, self.req_rcv, self.resp_snd, self.resp_rcv]\n",
    "        df = pd.DataFrame([entry_values],columns=[\"epoch_timestamp\", \"ip_adress\", \"req_snd\",\"req_rcv\",\"resp_snd\",\"resp_rcv\"])\n",
    "        if self.log_df is None:\n",
    "            self.log_df= df\n",
    "            df.to_csv(path_or_buf=\"{}.csv\".format(self.ip))\n",
    "        else:\n",
    "            self.log_df = self.log_df.append(df)\n",
    "            log_df = self.log_df\n",
    "            log_df.to_csv(path_or_buf=\"{}.csv\".format(self.ip))\n",
    "              \n",
    "    def start(self):\n",
    "        print(self.ip,self.port,\"is listening\")\n",
    "        while self.run_thread:\n",
    "            \n",
    "            client_message, client_addr = self.socket.recvfrom(1024)\n",
    "            now = datetime.now()\n",
    "            rec_time = now.strftime(\"%H:%M:%S\")\n",
    "            client_ip = client_addr[0]\n",
    "            client_port = client_addr[1]\n",
    "            client_message_json = json.dumps(json.loads(client_message), cls=NpEncoder, indent=4) \n",
    "            print(\"server ({}) got message from:{}:{}\\n\".format( self.origin, client_ip, client_port), client_message_json)\n",
    "            payload = self.build_response(client_message)\n",
    "            rec =True\n",
    "            self.write_log(rec,payload, client_ip, client_port, rec_time)\n",
    "            payload_json = json.dumps(payload, cls=NpEncoder, indent=4)\n",
    "            self.send_request(client_ip, client_port, payload_json)\n",
    "            now = datetime.now()\n",
    "            rec_time = now.strftime(\"%H:%M:%S\")\n",
    "            rec =False\n",
    "            self.write_log(rec,payload, client_ip, client_port, rec_time)\n",
    "    \n",
    "        "
   ]
  },
  {
   "cell_type": "code",
   "execution_count": 3,
   "metadata": {},
   "outputs": [],
   "source": [
    "def create_dns_servers():\n",
    "    ## load all entries for my zone\n",
    "    dns_servers=[]\n",
    "    with open('names.json') as dnsnamedata:\n",
    "        dns_server_configs = json.load(dnsnamedata)\n",
    "    for dns_server_config in dns_server_configs:\n",
    "        dns_servers.append(DNS(dns_server_config))\n",
    "    return dns_servers\n",
    "\n",
    "def start_dns_servers(dns_servers):\n",
    "    ## load all entries for my zone\n",
    "    dns_threads=[]\n",
    "    for dns in dns_servers:\n",
    "        time.sleep(0.5)\n",
    "        resolver_thread = threading.Thread(target=dns.start)\n",
    "        dns_threads.append(resolver_thread)\n",
    "        resolver_thread.start()\n",
    "    return dns_threads"
   ]
  },
  {
   "cell_type": "code",
   "execution_count": 4,
   "metadata": {},
   "outputs": [
    {
     "name": "stdout",
     "output_type": "stream",
     "text": [
      "127.0.0.11 53053 is listening\n",
      "127.0.0.12 53053 is listening\n",
      "127.0.0.14 53053 is listening\n",
      "127.0.0.15 53053 is listening\n",
      "127.0.0.13 53053 is listening\n",
      "127.0.0.16 53053 is listening\n",
      "127.0.0.17 53053 is listening\n",
      "server (.) got message from:127.0.0.10:53053\n",
      " {\n",
      "    \"dns.flags.response\": 0,\n",
      "    \"dns.flags.recdesired\": 1,\n",
      "    \"dns.qry.name\": \".switch.telematik\",\n",
      "    \"dns.qry.type\": 1\n",
      "}\n",
      "check if .switch.telematik is in our zone\n",
      "message successfull sended to ip:127.0.0.10 port:53053\n",
      " {\n",
      "    \"dns.flags.response\": 1,\n",
      "    \"dns.flags.recavail\": 0,\n",
      "    \"dns.qry.name\": \".switch.telematik\",\n",
      "    \"dns.qry.type\": 1,\n",
      "    \"dns.flags.rcode\": 3,\n",
      "    \"dns.count.answers\": 1,\n",
      "    \"dns.flags.authoritative\": 0,\n",
      "    \"dns.a\": null,\n",
      "    \"dns.rsp.ttl.a\": null,\n",
      "    \"dns.ns\": null\n",
      "}\n",
      "server (.) got message from:127.0.0.10:53053\n",
      " {\n",
      "    \"dns.flags.response\": 0,\n",
      "    \"dns.flags.recdesired\": 1,\n",
      "    \"dns.qry.name\": \".switch.telematik\",\n",
      "    \"dns.qry.type\": 1\n",
      "}\n",
      "check if .switch.telematik is in our zone\n",
      "message successfull sended to ip:127.0.0.10 port:53053\n",
      " {\n",
      "    \"dns.flags.response\": 1,\n",
      "    \"dns.flags.recavail\": 0,\n",
      "    \"dns.qry.name\": \".switch.telematik\",\n",
      "    \"dns.qry.type\": 1,\n",
      "    \"dns.flags.rcode\": 3,\n",
      "    \"dns.count.answers\": 1,\n",
      "    \"dns.flags.authoritative\": 0,\n",
      "    \"dns.a\": null,\n",
      "    \"dns.rsp.ttl.a\": null,\n",
      "    \"dns.ns\": null\n",
      "}\n"
     ]
    }
   ],
   "source": [
    "dns_servers = create_dns_servers()\n",
    "dns_threads =  start_dns_servers(dns_servers)\n",
    "#t = DNS(zone0)"
   ]
  },
  {
   "cell_type": "code",
   "execution_count": 5,
   "metadata": {},
   "outputs": [],
   "source": [
    "DNS.stop_threads =True"
   ]
  },
  {
   "cell_type": "markdown",
   "metadata": {},
   "source": [
    "t = DNS(zone0)\n",
    "resolver_thread = threading.Thread(target=t.start)\n",
    "resolver_thread.start()"
   ]
  },
  {
   "cell_type": "markdown",
   "metadata": {},
   "source": [
    "a = {'dns.flags.response': 1, 'dns.flags.recavail': 0, 'dns.qry.name': '.switch.telematik', 'dns.qry.type': 1, 'dns.flags.rcode': 0, 'dns.count.answers': 1, 'dns.flags.authoritative': 0, 'dns.a': '255.255.255.255', 'dns.rsp.ttl.a': 400, 'dns.ns': 'switch.telematik'}"
   ]
  },
  {
   "cell_type": "code",
   "execution_count": 12,
   "metadata": {},
   "outputs": [
    {
     "data": {
      "text/plain": [
       "'{\"dns.flags.response\": 1, \"dns.flags.recavail\": 0, \"dns.qry.name\": \".switch.telematik\", \"dns.qry.type\": 1, \"dns.flags.rcode\": 0, \"dns.count.answers\": 1, \"dns.flags.authoritative\": 0, \"dns.a\": \"255.255.255.255\", \"dns.rsp.ttl.a\": 400, \"dns.ns\": \"switch.telematik\"}'"
      ]
     },
     "execution_count": 12,
     "metadata": {},
     "output_type": "execute_result"
    }
   ],
   "source": [
    "json.dumps(a)"
   ]
  },
  {
   "cell_type": "markdown",
   "metadata": {},
   "source": [
    "msg ={\n",
    "    \"dns.flags.response\":0,\n",
    "    \"dns.flags.recdesired\":1,\n",
    "    \"dns.qry.name\":\".switch.telematik\",\n",
    "    \"dns.qry.type\":1\n",
    "}"
   ]
  },
  {
   "cell_type": "markdown",
   "metadata": {},
   "source": [
    "msg_json = json.dumps(msg, indent=4)"
   ]
  },
  {
   "cell_type": "markdown",
   "metadata": {},
   "source": [
    "t.build_response(msg_json)"
   ]
  },
  {
   "cell_type": "markdown",
   "metadata": {},
   "source": [
    "payload_dict ={  \n",
    "    \"dns.flags.response\": 1,\n",
    "    \"dns.flags.recdesired\": \"placeholder\",\n",
    "    \"dns.qry.name\": \"placeholder\",\n",
    "    \"dns.qry.type\": \"placeholder\",\n",
    "    \"dns.flags.rcode\": \"placeholder\",\n",
    "    \"dns.count.answers\": \"placeholder\",\n",
    "    \"dns.flags.authoritative\": \"placeholder\",\n",
    "    \"dns.a\": \"127.0.0.10\",\n",
    "    \"dns.ns\": \"www.switch.telematik\",\n",
    "    \"dns.resp.ttl\": 1234,\n",
    "    \"dns.srv.name\": \"placeholder\",\n",
    "    \"dns.srv.port\": \"placeholder\",\n",
    "    \"dns.srv.proto\": \"placeholder\",\n",
    "    \"dns.srv.service\": \"placeholder\",\n",
    "    \"dns.srv.target\": \"placeholder\"\n",
    "}  "
   ]
  },
  {
   "cell_type": "markdown",
   "metadata": {},
   "source": [
    "now = datetime.now()\n",
    "rec_time = now.strftime(\"%H:%M:%S\")\n",
    "rec_time    "
   ]
  },
  {
   "cell_type": "markdown",
   "metadata": {},
   "source": [
    "\n",
    "city = pd.DataFrame([['Sacramento', 'California'], ['Miami', 'Florida']], columns=['City', 'State'])\n"
   ]
  },
  {
   "cell_type": "code",
   "execution_count": 7,
   "metadata": {},
   "outputs": [
    {
     "data": {
      "text/html": [
       "<div>\n",
       "<style scoped>\n",
       "    .dataframe tbody tr th:only-of-type {\n",
       "        vertical-align: middle;\n",
       "    }\n",
       "\n",
       "    .dataframe tbody tr th {\n",
       "        vertical-align: top;\n",
       "    }\n",
       "\n",
       "    .dataframe thead th {\n",
       "        text-align: right;\n",
       "    }\n",
       "</style>\n",
       "<table border=\"1\" class=\"dataframe\">\n",
       "  <thead>\n",
       "    <tr style=\"text-align: right;\">\n",
       "      <th></th>\n",
       "      <th>City</th>\n",
       "      <th>State</th>\n",
       "    </tr>\n",
       "  </thead>\n",
       "  <tbody>\n",
       "    <tr>\n",
       "      <th>0</th>\n",
       "      <td>Sacramento</td>\n",
       "      <td>California</td>\n",
       "    </tr>\n",
       "    <tr>\n",
       "      <th>1</th>\n",
       "      <td>Miami</td>\n",
       "      <td>Florida</td>\n",
       "    </tr>\n",
       "  </tbody>\n",
       "</table>\n",
       "</div>"
      ],
      "text/plain": [
       "         City       State\n",
       "0  Sacramento  California\n",
       "1       Miami     Florida"
      ]
     },
     "execution_count": 7,
     "metadata": {},
     "output_type": "execute_result"
    }
   ],
   "source": [
    "city"
   ]
  },
  {
   "cell_type": "code",
   "execution_count": 28,
   "metadata": {},
   "outputs": [],
   "source": [
    "city2 = city.append(city)\n",
    "city2.to_csv('test0.csv')"
   ]
  },
  {
   "cell_type": "code",
   "execution_count": 76,
   "metadata": {},
   "outputs": [],
   "source": [
    "values= list(payload_dict.values())\n",
    "values_list = [[v] for v in values]"
   ]
  },
  {
   "cell_type": "code",
   "execution_count": 6,
   "metadata": {},
   "outputs": [
    {
     "name": "stdout",
     "output_type": "stream",
     "text": [
      "Current Time = 22:34:11\n"
     ]
    }
   ],
   "source": [
    "from datetime import datetime\n",
    "\n",
    "now = datetime.now()\n",
    "\n",
    "current_time = now.strftime(\"%H:%M:%S\")\n",
    "print(\"Current Time =\", current_time)"
   ]
  },
  {
   "cell_type": "code",
   "execution_count": 92,
   "metadata": {},
   "outputs": [
    {
     "data": {
      "text/plain": [
       "['dns.flags.response', 'dns.flags.recdesired', 'dns.qry.name']"
      ]
     },
     "execution_count": 92,
     "metadata": {},
     "output_type": "execute_result"
    }
   ],
   "source": [
    "test_keys =keys[0:3]\n",
    "test_keys"
   ]
  },
  {
   "cell_type": "code",
   "execution_count": 5,
   "metadata": {},
   "outputs": [
    {
     "data": {
      "text/html": [
       "<div>\n",
       "<style scoped>\n",
       "    .dataframe tbody tr th:only-of-type {\n",
       "        vertical-align: middle;\n",
       "    }\n",
       "\n",
       "    .dataframe tbody tr th {\n",
       "        vertical-align: top;\n",
       "    }\n",
       "\n",
       "    .dataframe thead th {\n",
       "        text-align: right;\n",
       "    }\n",
       "</style>\n",
       "<table border=\"1\" class=\"dataframe\">\n",
       "  <thead>\n",
       "    <tr style=\"text-align: right;\">\n",
       "      <th></th>\n",
       "      <th>City</th>\n",
       "      <th>State</th>\n",
       "    </tr>\n",
       "  </thead>\n",
       "  <tbody>\n",
       "    <tr>\n",
       "      <th>0</th>\n",
       "      <td>Sacramento</td>\n",
       "      <td>California</td>\n",
       "    </tr>\n",
       "    <tr>\n",
       "      <th>1</th>\n",
       "      <td>Miami</td>\n",
       "      <td>Florida</td>\n",
       "    </tr>\n",
       "  </tbody>\n",
       "</table>\n",
       "</div>"
      ],
      "text/plain": [
       "         City       State\n",
       "0  Sacramento  California\n",
       "1       Miami     Florida"
      ]
     },
     "execution_count": 5,
     "metadata": {},
     "output_type": "execute_result"
    }
   ],
   "source": [
    "city = pd.DataFrame([['Sacramento', 'California'], ['Miami', 'Florida']], columns=['City', 'State'])\n",
    "city"
   ]
  },
  {
   "cell_type": "code",
   "execution_count": 17,
   "metadata": {},
   "outputs": [],
   "source": [
    "import os\n",
    "if os.path.exists(\"log.csv\"):\n",
    "    os.remove(\"log5.csv\")"
   ]
  },
  {
   "cell_type": "code",
   "execution_count": 14,
   "metadata": {},
   "outputs": [
    {
     "data": {
      "text/html": [
       "<div>\n",
       "<style scoped>\n",
       "    .dataframe tbody tr th:only-of-type {\n",
       "        vertical-align: middle;\n",
       "    }\n",
       "\n",
       "    .dataframe tbody tr th {\n",
       "        vertical-align: top;\n",
       "    }\n",
       "\n",
       "    .dataframe thead th {\n",
       "        text-align: right;\n",
       "    }\n",
       "</style>\n",
       "<table border=\"1\" class=\"dataframe\">\n",
       "  <thead>\n",
       "    <tr style=\"text-align: right;\">\n",
       "      <th></th>\n",
       "      <th>City</th>\n",
       "      <th>State</th>\n",
       "    </tr>\n",
       "  </thead>\n",
       "  <tbody>\n",
       "    <tr>\n",
       "      <th>0</th>\n",
       "      <td>Sacramento</td>\n",
       "      <td>California</td>\n",
       "    </tr>\n",
       "    <tr>\n",
       "      <th>1</th>\n",
       "      <td>Miami</td>\n",
       "      <td>Florida</td>\n",
       "    </tr>\n",
       "    <tr>\n",
       "      <th>0</th>\n",
       "      <td>Sacramento</td>\n",
       "      <td>California</td>\n",
       "    </tr>\n",
       "    <tr>\n",
       "      <th>1</th>\n",
       "      <td>Miami</td>\n",
       "      <td>Florida</td>\n",
       "    </tr>\n",
       "    <tr>\n",
       "      <th>0</th>\n",
       "      <td>Sacramento</td>\n",
       "      <td>California</td>\n",
       "    </tr>\n",
       "    <tr>\n",
       "      <th>1</th>\n",
       "      <td>Miami</td>\n",
       "      <td>Florida</td>\n",
       "    </tr>\n",
       "  </tbody>\n",
       "</table>\n",
       "</div>"
      ],
      "text/plain": [
       "         City       State\n",
       "0  Sacramento  California\n",
       "1       Miami     Florida\n",
       "0  Sacramento  California\n",
       "1       Miami     Florida\n",
       "0  Sacramento  California\n",
       "1       Miami     Florida"
      ]
     },
     "execution_count": 14,
     "metadata": {},
     "output_type": "execute_result"
    }
   ],
   "source": [
    "city3 = city2.append(city)\n",
    "city3"
   ]
  },
  {
   "cell_type": "code",
   "execution_count": 18,
   "metadata": {},
   "outputs": [
    {
     "data": {
      "text/html": [
       "<div>\n",
       "<style scoped>\n",
       "    .dataframe tbody tr th:only-of-type {\n",
       "        vertical-align: middle;\n",
       "    }\n",
       "\n",
       "    .dataframe tbody tr th {\n",
       "        vertical-align: top;\n",
       "    }\n",
       "\n",
       "    .dataframe thead th {\n",
       "        text-align: right;\n",
       "    }\n",
       "</style>\n",
       "<table border=\"1\" class=\"dataframe\">\n",
       "  <thead>\n",
       "    <tr style=\"text-align: right;\">\n",
       "      <th></th>\n",
       "      <th>City</th>\n",
       "      <th>State</th>\n",
       "    </tr>\n",
       "  </thead>\n",
       "  <tbody>\n",
       "    <tr>\n",
       "      <th>0</th>\n",
       "      <td>Sacramento</td>\n",
       "      <td>California</td>\n",
       "    </tr>\n",
       "    <tr>\n",
       "      <th>1</th>\n",
       "      <td>Miami</td>\n",
       "      <td>Florida</td>\n",
       "    </tr>\n",
       "    <tr>\n",
       "      <th>0</th>\n",
       "      <td>Sacramento</td>\n",
       "      <td>California</td>\n",
       "    </tr>\n",
       "    <tr>\n",
       "      <th>1</th>\n",
       "      <td>Miami</td>\n",
       "      <td>Florida</td>\n",
       "    </tr>\n",
       "    <tr>\n",
       "      <th>0</th>\n",
       "      <td>Sacramento</td>\n",
       "      <td>California</td>\n",
       "    </tr>\n",
       "    <tr>\n",
       "      <th>1</th>\n",
       "      <td>Miami</td>\n",
       "      <td>Florida</td>\n",
       "    </tr>\n",
       "  </tbody>\n",
       "</table>\n",
       "</div>"
      ],
      "text/plain": [
       "         City       State\n",
       "0  Sacramento  California\n",
       "1       Miami     Florida\n",
       "0  Sacramento  California\n",
       "1       Miami     Florida\n",
       "0  Sacramento  California\n",
       "1       Miami     Florida"
      ]
     },
     "execution_count": 18,
     "metadata": {},
     "output_type": "execute_result"
    }
   ],
   "source": [
    "city3.to_csv(\"log5.csv\")\n",
    "city3"
   ]
  },
  {
   "cell_type": "code",
   "execution_count": 125,
   "metadata": {},
   "outputs": [
    {
     "data": {
      "text/html": [
       "<div>\n",
       "<style scoped>\n",
       "    .dataframe tbody tr th:only-of-type {\n",
       "        vertical-align: middle;\n",
       "    }\n",
       "\n",
       "    .dataframe tbody tr th {\n",
       "        vertical-align: top;\n",
       "    }\n",
       "\n",
       "    .dataframe thead th {\n",
       "        text-align: right;\n",
       "    }\n",
       "</style>\n",
       "<table border=\"1\" class=\"dataframe\">\n",
       "  <thead>\n",
       "    <tr style=\"text-align: right;\">\n",
       "      <th></th>\n",
       "      <th>dns.flags.response</th>\n",
       "      <th>dns.flags.recdesired</th>\n",
       "      <th>dns.qry.name</th>\n",
       "    </tr>\n",
       "  </thead>\n",
       "  <tbody>\n",
       "    <tr>\n",
       "      <th>0</th>\n",
       "      <td>0</td>\n",
       "      <td>placeholder</td>\n",
       "      <td>placeholder</td>\n",
       "    </tr>\n",
       "    <tr>\n",
       "      <th>0</th>\n",
       "      <td>0</td>\n",
       "      <td>placeholder</td>\n",
       "      <td>placeholder</td>\n",
       "    </tr>\n",
       "  </tbody>\n",
       "</table>\n",
       "</div>"
      ],
      "text/plain": [
       "   dns.flags.response dns.flags.recdesired dns.qry.name\n",
       "0                   0          placeholder  placeholder\n",
       "0                   0          placeholder  placeholder"
      ]
     },
     "execution_count": 125,
     "metadata": {},
     "output_type": "execute_result"
    }
   ],
   "source": [
    "test= pd.DataFrame([values[0:3]], columns=test_keys)\n",
    "test.append(test)"
   ]
  },
  {
   "cell_type": "code",
   "execution_count": 127,
   "metadata": {},
   "outputs": [
    {
     "data": {
      "text/html": [
       "<div>\n",
       "<style scoped>\n",
       "    .dataframe tbody tr th:only-of-type {\n",
       "        vertical-align: middle;\n",
       "    }\n",
       "\n",
       "    .dataframe tbody tr th {\n",
       "        vertical-align: top;\n",
       "    }\n",
       "\n",
       "    .dataframe thead th {\n",
       "        text-align: right;\n",
       "    }\n",
       "</style>\n",
       "<table border=\"1\" class=\"dataframe\">\n",
       "  <thead>\n",
       "    <tr style=\"text-align: right;\">\n",
       "      <th></th>\n",
       "      <th>dns.flags.response</th>\n",
       "      <th>dns.flags.recdesired</th>\n",
       "      <th>dns.qry.name</th>\n",
       "    </tr>\n",
       "  </thead>\n",
       "  <tbody>\n",
       "    <tr>\n",
       "      <th>0</th>\n",
       "      <td>0</td>\n",
       "      <td>placeholder</td>\n",
       "      <td>placeholder</td>\n",
       "    </tr>\n",
       "  </tbody>\n",
       "</table>\n",
       "</div>"
      ],
      "text/plain": [
       "   dns.flags.response dns.flags.recdesired dns.qry.name\n",
       "0                   0          placeholder  placeholder"
      ]
     },
     "execution_count": 127,
     "metadata": {},
     "output_type": "execute_result"
    }
   ],
   "source": [
    "test"
   ]
  },
  {
   "cell_type": "code",
   "execution_count": 60,
   "metadata": {},
   "outputs": [
    {
     "data": {
      "text/plain": [
       "dns.flags.response                            0\n",
       "dns.flags.recdesired                placeholder\n",
       "dns.qry.name                        placeholder\n",
       "dns.qry.type                        placeholder\n",
       "dns.flags.rcode                     placeholder\n",
       "dns.count.answers                   placeholder\n",
       "dns.flags.authoritative             placeholder\n",
       "dns.a                                127.0.0.10\n",
       "dns.ns                     www.switch.telematik\n",
       "dns.resp.ttl                               1234\n",
       "dns.srv.name                        placeholder\n",
       "dns.srv.port                        placeholder\n",
       "dns.srv.proto                       placeholder\n",
       "dns.srv.service                     placeholder\n",
       "dns.srv.target                      placeholder\n",
       "dns.flags.response                            0\n",
       "dns.flags.recdesired                placeholder\n",
       "dns.qry.name                        placeholder\n",
       "dns.qry.type                        placeholder\n",
       "dns.flags.rcode                     placeholder\n",
       "dns.count.answers                   placeholder\n",
       "dns.flags.authoritative             placeholder\n",
       "dns.a                                127.0.0.10\n",
       "dns.ns                     www.switch.telematik\n",
       "dns.resp.ttl                               1234\n",
       "dns.srv.name                        placeholder\n",
       "dns.srv.port                        placeholder\n",
       "dns.srv.proto                       placeholder\n",
       "dns.srv.service                     placeholder\n",
       "dns.srv.target                      placeholder\n",
       "dtype: object"
      ]
     },
     "execution_count": 60,
     "metadata": {},
     "output_type": "execute_result"
    }
   ],
   "source": [
    "t.append(s)"
   ]
  },
  {
   "cell_type": "code",
   "execution_count": 44,
   "metadata": {},
   "outputs": [],
   "source": [
    "values = list(payload_dict.values())"
   ]
  },
  {
   "cell_type": "code",
   "execution_count": 52,
   "metadata": {},
   "outputs": [
    {
     "ename": "ValueError",
     "evalue": "If using all scalar values, you must pass an index",
     "output_type": "error",
     "traceback": [
      "\u001b[1;31m---------------------------------------------------------------------------\u001b[0m",
      "\u001b[1;31mValueError\u001b[0m                                Traceback (most recent call last)",
      "\u001b[1;32m<ipython-input-52-678f69570ba3>\u001b[0m in \u001b[0;36m<module>\u001b[1;34m\u001b[0m\n\u001b[1;32m----> 1\u001b[1;33m \u001b[0mtestos\u001b[0m \u001b[1;33m=\u001b[0m \u001b[0mpd\u001b[0m\u001b[1;33m.\u001b[0m\u001b[0mDataFrame\u001b[0m\u001b[1;33m(\u001b[0m\u001b[0mdata\u001b[0m\u001b[1;33m=\u001b[0m\u001b[0mpayload_dict\u001b[0m\u001b[1;33m)\u001b[0m\u001b[1;33m\u001b[0m\u001b[1;33m\u001b[0m\u001b[0m\n\u001b[0m",
      "\u001b[1;32mC:\\anaconda3\\lib\\site-packages\\pandas\\core\\frame.py\u001b[0m in \u001b[0;36m__init__\u001b[1;34m(self, data, index, columns, dtype, copy)\u001b[0m\n\u001b[0;32m    433\u001b[0m             )\n\u001b[0;32m    434\u001b[0m         \u001b[1;32melif\u001b[0m \u001b[0misinstance\u001b[0m\u001b[1;33m(\u001b[0m\u001b[0mdata\u001b[0m\u001b[1;33m,\u001b[0m \u001b[0mdict\u001b[0m\u001b[1;33m)\u001b[0m\u001b[1;33m:\u001b[0m\u001b[1;33m\u001b[0m\u001b[1;33m\u001b[0m\u001b[0m\n\u001b[1;32m--> 435\u001b[1;33m             \u001b[0mmgr\u001b[0m \u001b[1;33m=\u001b[0m \u001b[0minit_dict\u001b[0m\u001b[1;33m(\u001b[0m\u001b[0mdata\u001b[0m\u001b[1;33m,\u001b[0m \u001b[0mindex\u001b[0m\u001b[1;33m,\u001b[0m \u001b[0mcolumns\u001b[0m\u001b[1;33m,\u001b[0m \u001b[0mdtype\u001b[0m\u001b[1;33m=\u001b[0m\u001b[0mdtype\u001b[0m\u001b[1;33m)\u001b[0m\u001b[1;33m\u001b[0m\u001b[1;33m\u001b[0m\u001b[0m\n\u001b[0m\u001b[0;32m    436\u001b[0m         \u001b[1;32melif\u001b[0m \u001b[0misinstance\u001b[0m\u001b[1;33m(\u001b[0m\u001b[0mdata\u001b[0m\u001b[1;33m,\u001b[0m \u001b[0mma\u001b[0m\u001b[1;33m.\u001b[0m\u001b[0mMaskedArray\u001b[0m\u001b[1;33m)\u001b[0m\u001b[1;33m:\u001b[0m\u001b[1;33m\u001b[0m\u001b[1;33m\u001b[0m\u001b[0m\n\u001b[0;32m    437\u001b[0m             \u001b[1;32mimport\u001b[0m \u001b[0mnumpy\u001b[0m\u001b[1;33m.\u001b[0m\u001b[0mma\u001b[0m\u001b[1;33m.\u001b[0m\u001b[0mmrecords\u001b[0m \u001b[1;32mas\u001b[0m \u001b[0mmrecords\u001b[0m\u001b[1;33m\u001b[0m\u001b[1;33m\u001b[0m\u001b[0m\n",
      "\u001b[1;32mC:\\anaconda3\\lib\\site-packages\\pandas\\core\\internals\\construction.py\u001b[0m in \u001b[0;36minit_dict\u001b[1;34m(data, index, columns, dtype)\u001b[0m\n\u001b[0;32m    252\u001b[0m             \u001b[0marr\u001b[0m \u001b[1;32mif\u001b[0m \u001b[1;32mnot\u001b[0m \u001b[0mis_datetime64tz_dtype\u001b[0m\u001b[1;33m(\u001b[0m\u001b[0marr\u001b[0m\u001b[1;33m)\u001b[0m \u001b[1;32melse\u001b[0m \u001b[0marr\u001b[0m\u001b[1;33m.\u001b[0m\u001b[0mcopy\u001b[0m\u001b[1;33m(\u001b[0m\u001b[1;33m)\u001b[0m \u001b[1;32mfor\u001b[0m \u001b[0marr\u001b[0m \u001b[1;32min\u001b[0m \u001b[0marrays\u001b[0m\u001b[1;33m\u001b[0m\u001b[1;33m\u001b[0m\u001b[0m\n\u001b[0;32m    253\u001b[0m         ]\n\u001b[1;32m--> 254\u001b[1;33m     \u001b[1;32mreturn\u001b[0m \u001b[0marrays_to_mgr\u001b[0m\u001b[1;33m(\u001b[0m\u001b[0marrays\u001b[0m\u001b[1;33m,\u001b[0m \u001b[0mdata_names\u001b[0m\u001b[1;33m,\u001b[0m \u001b[0mindex\u001b[0m\u001b[1;33m,\u001b[0m \u001b[0mcolumns\u001b[0m\u001b[1;33m,\u001b[0m \u001b[0mdtype\u001b[0m\u001b[1;33m=\u001b[0m\u001b[0mdtype\u001b[0m\u001b[1;33m)\u001b[0m\u001b[1;33m\u001b[0m\u001b[1;33m\u001b[0m\u001b[0m\n\u001b[0m\u001b[0;32m    255\u001b[0m \u001b[1;33m\u001b[0m\u001b[0m\n\u001b[0;32m    256\u001b[0m \u001b[1;33m\u001b[0m\u001b[0m\n",
      "\u001b[1;32mC:\\anaconda3\\lib\\site-packages\\pandas\\core\\internals\\construction.py\u001b[0m in \u001b[0;36marrays_to_mgr\u001b[1;34m(arrays, arr_names, index, columns, dtype)\u001b[0m\n\u001b[0;32m     62\u001b[0m     \u001b[1;31m# figure out the index, if necessary\u001b[0m\u001b[1;33m\u001b[0m\u001b[1;33m\u001b[0m\u001b[1;33m\u001b[0m\u001b[0m\n\u001b[0;32m     63\u001b[0m     \u001b[1;32mif\u001b[0m \u001b[0mindex\u001b[0m \u001b[1;32mis\u001b[0m \u001b[1;32mNone\u001b[0m\u001b[1;33m:\u001b[0m\u001b[1;33m\u001b[0m\u001b[1;33m\u001b[0m\u001b[0m\n\u001b[1;32m---> 64\u001b[1;33m         \u001b[0mindex\u001b[0m \u001b[1;33m=\u001b[0m \u001b[0mextract_index\u001b[0m\u001b[1;33m(\u001b[0m\u001b[0marrays\u001b[0m\u001b[1;33m)\u001b[0m\u001b[1;33m\u001b[0m\u001b[1;33m\u001b[0m\u001b[0m\n\u001b[0m\u001b[0;32m     65\u001b[0m     \u001b[1;32melse\u001b[0m\u001b[1;33m:\u001b[0m\u001b[1;33m\u001b[0m\u001b[1;33m\u001b[0m\u001b[0m\n\u001b[0;32m     66\u001b[0m         \u001b[0mindex\u001b[0m \u001b[1;33m=\u001b[0m \u001b[0mensure_index\u001b[0m\u001b[1;33m(\u001b[0m\u001b[0mindex\u001b[0m\u001b[1;33m)\u001b[0m\u001b[1;33m\u001b[0m\u001b[1;33m\u001b[0m\u001b[0m\n",
      "\u001b[1;32mC:\\anaconda3\\lib\\site-packages\\pandas\\core\\internals\\construction.py\u001b[0m in \u001b[0;36mextract_index\u001b[1;34m(data)\u001b[0m\n\u001b[0;32m    353\u001b[0m \u001b[1;33m\u001b[0m\u001b[0m\n\u001b[0;32m    354\u001b[0m         \u001b[1;32mif\u001b[0m \u001b[1;32mnot\u001b[0m \u001b[0mindexes\u001b[0m \u001b[1;32mand\u001b[0m \u001b[1;32mnot\u001b[0m \u001b[0mraw_lengths\u001b[0m\u001b[1;33m:\u001b[0m\u001b[1;33m\u001b[0m\u001b[1;33m\u001b[0m\u001b[0m\n\u001b[1;32m--> 355\u001b[1;33m             \u001b[1;32mraise\u001b[0m \u001b[0mValueError\u001b[0m\u001b[1;33m(\u001b[0m\u001b[1;34m\"If using all scalar values, you must pass an index\"\u001b[0m\u001b[1;33m)\u001b[0m\u001b[1;33m\u001b[0m\u001b[1;33m\u001b[0m\u001b[0m\n\u001b[0m\u001b[0;32m    356\u001b[0m \u001b[1;33m\u001b[0m\u001b[0m\n\u001b[0;32m    357\u001b[0m         \u001b[1;32mif\u001b[0m \u001b[0mhave_series\u001b[0m\u001b[1;33m:\u001b[0m\u001b[1;33m\u001b[0m\u001b[1;33m\u001b[0m\u001b[0m\n",
      "\u001b[1;31mValueError\u001b[0m: If using all scalar values, you must pass an index"
     ]
    }
   ],
   "source": [
    "testos = pd.DataFrame(data=payload_dict)"
   ]
  },
  {
   "cell_type": "code",
   "execution_count": 134,
   "metadata": {},
   "outputs": [],
   "source": [
    "testos2 = testos.append(testos)"
   ]
  },
  {
   "cell_type": "code",
   "execution_count": 197,
   "metadata": {},
   "outputs": [],
   "source": [
    "import glob\n",
    "import os\n",
    "if os.path.exists(\"log.csv\"):\n",
    "    os.remove(\"log.csv\")\n"
   ]
  },
  {
   "cell_type": "code",
   "execution_count": 199,
   "metadata": {},
   "outputs": [],
   "source": [
    "test = test.append(test)\n",
    "test.to_csv(path_or_buf=\"log2.csv\")"
   ]
  },
  {
   "cell_type": "code",
   "execution_count": 201,
   "metadata": {},
   "outputs": [
    {
     "data": {
      "text/html": [
       "<div>\n",
       "<style scoped>\n",
       "    .dataframe tbody tr th:only-of-type {\n",
       "        vertical-align: middle;\n",
       "    }\n",
       "\n",
       "    .dataframe tbody tr th {\n",
       "        vertical-align: top;\n",
       "    }\n",
       "\n",
       "    .dataframe thead th {\n",
       "        text-align: right;\n",
       "    }\n",
       "</style>\n",
       "<table border=\"1\" class=\"dataframe\">\n",
       "  <thead>\n",
       "    <tr style=\"text-align: right;\">\n",
       "      <th></th>\n",
       "      <th>dns.flags.response</th>\n",
       "      <th>dns.flags.recdesired</th>\n",
       "      <th>dns.qry.name</th>\n",
       "    </tr>\n",
       "  </thead>\n",
       "  <tbody>\n",
       "    <tr>\n",
       "      <th>0</th>\n",
       "      <td>0</td>\n",
       "      <td>placeholder</td>\n",
       "      <td>placeholder</td>\n",
       "    </tr>\n",
       "    <tr>\n",
       "      <th>0</th>\n",
       "      <td>0</td>\n",
       "      <td>placeholder</td>\n",
       "      <td>placeholder</td>\n",
       "    </tr>\n",
       "    <tr>\n",
       "      <th>0</th>\n",
       "      <td>0</td>\n",
       "      <td>placeholder</td>\n",
       "      <td>placeholder</td>\n",
       "    </tr>\n",
       "    <tr>\n",
       "      <th>0</th>\n",
       "      <td>0</td>\n",
       "      <td>placeholder</td>\n",
       "      <td>placeholder</td>\n",
       "    </tr>\n",
       "  </tbody>\n",
       "</table>\n",
       "</div>"
      ],
      "text/plain": [
       "   dns.flags.response dns.flags.recdesired dns.qry.name\n",
       "0                   0          placeholder  placeholder\n",
       "0                   0          placeholder  placeholder\n",
       "0                   0          placeholder  placeholder\n",
       "0                   0          placeholder  placeholder"
      ]
     },
     "execution_count": 201,
     "metadata": {},
     "output_type": "execute_result"
    }
   ],
   "source": [
    "test"
   ]
  }
 ],
 "metadata": {
  "kernelspec": {
   "display_name": "Python 3",
   "language": "python",
   "name": "python3"
  },
  "language_info": {
   "codemirror_mode": {
    "name": "ipython",
    "version": 3
   },
   "file_extension": ".py",
   "mimetype": "text/x-python",
   "name": "python",
   "nbconvert_exporter": "python",
   "pygments_lexer": "ipython3",
   "version": "3.7.3"
  },
  "latex_envs": {
   "LaTeX_envs_menu_present": true,
   "autoclose": false,
   "autocomplete": true,
   "bibliofile": "biblio.bib",
   "cite_by": "apalike",
   "current_citInitial": 1,
   "eqLabelWithNumbers": true,
   "eqNumInitial": 1,
   "hotkeys": {
    "equation": "Ctrl-E",
    "itemize": "Ctrl-I"
   },
   "labels_anchors": false,
   "latex_user_defs": false,
   "report_style_numbering": false,
   "user_envs_cfg": false
  }
 },
 "nbformat": 4,
 "nbformat_minor": 4
}

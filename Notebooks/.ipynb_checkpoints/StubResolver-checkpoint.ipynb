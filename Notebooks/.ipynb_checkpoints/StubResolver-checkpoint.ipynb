{
 "cells": [
  {
   "cell_type": "code",
   "execution_count": 1,
   "metadata": {},
   "outputs": [],
   "source": [
    "import socket\n",
    "import time\n",
    "import json\n",
    "import threading\n",
    "import pandas as pd"
   ]
  },
  {
   "cell_type": "code",
   "execution_count": 2,
   "metadata": {},
   "outputs": [],
   "source": [
    "class Recursive_resolver(object):\n",
    "    socket = None\n",
    "    address = None\n",
    "    port = None\n",
    "    \n",
    "    def __init__(self, seconds=2000, addr='127.0.0.9', port=53053):\n",
    "        self.seconds = seconds\n",
    "        #initialize cache\n",
    "        telematik_dns_dict = {'ns': [], 'a': [], 'ttl':[]}\n",
    "        self.cache = pd.DataFrame(telematik_dns_dict, columns = ['ns','a','ttl' ])\n",
    "        self.address = addr\n",
    "        self.port = port\n",
    "        \n",
    "        self.socket = socket.socket(socket.AF_INET,\n",
    "                     socket.SOCK_DGRAM)\n",
    "        \n",
    "    def start(self):\n",
    "\n",
    "            ### Bind socket\n",
    "            server_addr = (self.address, self.port)\n",
    "            self.socket.bind(server_addr)\n",
    "\n",
    "            print('Resolver start listening for ',self.seconds,' seconds...')\n",
    "            payload_from_req_resolver, client_addr = self.socket.recvfrom(1024)\n",
    "            payload_from_req_resolver = json.loads(payload_from_dns)\n",
    "            print('Received response from: ',client_addr,' with payload:\\n',json.dumps(payload_from_req_resolver, indent = 4))\n",
    "            \n",
    "    def send_request(self, ip, port, payload):\n",
    "        self.socket.sendto(bytes(payload, 'utf-8'),('127.0.0.10',53053))"
   ]
  },
  {
   "cell_type": "code",
   "execution_count": null,
   "metadata": {},
   "outputs": [],
   "source": [
    "payload_dict ={  \n",
    "    \"dns.flags.response\": 1,\n",
    "    \"dns.flags.recdesired\": \"placeholder\",\n",
    "    \"dns.qry.name\": \"placeholder\",\n",
    "    \"dns.qry.type\": \"placeholder\",\n",
    "    \"dns.flags.rcode\": \"placeholder\",\n",
    "    \"dns.count.answers\": \"placeholder\",\n",
    "    \"dns.flags.authoritative\": \"placeholder\",\n",
    "    \"dns.a\": \"127.0.0.10\",\n",
    "    \"dns.ns\": \"www.switch.telematik\",\n",
    "    \"dns.resp.ttl\": 1234,\n",
    "    \"dns.srv.name\": \"placeholder\",\n",
    "    \"dns.srv.port\": \"placeholder\",\n",
    "    \"dns.srv.proto\": \"placeholder\",\n",
    "    \"dns.srv.service\": \"placeholder\",\n",
    "    \"dns.srv.target\": \"placeholder\"\n",
    "}  "
   ]
  },
  {
   "cell_type": "code",
   "execution_count": null,
   "metadata": {},
   "outputs": [],
   "source": [
    "#convert dict to json object\n",
    "payload_json = json.dumps(payload_dict, indent = 4)"
   ]
  },
  {
   "cell_type": "code",
   "execution_count": null,
   "metadata": {},
   "outputs": [],
   "source": []
  },
  {
   "cell_type": "code",
   "execution_count": null,
   "metadata": {},
   "outputs": [],
   "source": []
  }
 ],
 "metadata": {
  "kernelspec": {
   "display_name": "Python 3",
   "language": "python",
   "name": "python3"
  },
  "language_info": {
   "codemirror_mode": {
    "name": "ipython",
    "version": 3
   },
   "file_extension": ".py",
   "mimetype": "text/x-python",
   "name": "python",
   "nbconvert_exporter": "python",
   "pygments_lexer": "ipython3",
   "version": "3.7.3"
  },
  "latex_envs": {
   "LaTeX_envs_menu_present": true,
   "autoclose": false,
   "autocomplete": true,
   "bibliofile": "biblio.bib",
   "cite_by": "apalike",
   "current_citInitial": 1,
   "eqLabelWithNumbers": true,
   "eqNumInitial": 1,
   "hotkeys": {
    "equation": "Ctrl-E",
    "itemize": "Ctrl-I"
   },
   "labels_anchors": false,
   "latex_user_defs": false,
   "report_style_numbering": false,
   "user_envs_cfg": false
  }
 },
 "nbformat": 4,
 "nbformat_minor": 4
}

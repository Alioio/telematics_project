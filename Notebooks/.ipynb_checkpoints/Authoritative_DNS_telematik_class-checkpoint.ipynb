{
 "cells": [
  {
   "cell_type": "code",
   "execution_count": 6,
   "metadata": {},
   "outputs": [],
   "source": [
    "import socket\n",
    "import time\n",
    "import json\n",
    "import threading\n",
    "import pandas as pd\n",
    "import re"
   ]
  },
  {
   "cell_type": "markdown",
   "metadata": {},
   "source": [
    "#### This is a visualization of our DNS Zones\n",
    "\n",
    "![zones_telematik.png](zones_telematik.png)"
   ]
  },
  {
   "cell_type": "markdown",
   "metadata": {},
   "source": [
    "### This class is representing a DNS server and is handing all requests and responses to a DNS server"
   ]
  },
  {
   "cell_type": "code",
   "execution_count": 38,
   "metadata": {},
   "outputs": [],
   "source": [
    "class DNS_server(object):\n",
    "    \n",
    "#     socket = None\n",
    "#     address = None\n",
    "#     port = None\n",
    "    #is_authorative = 0 #is this server an authorative server?\n",
    "    #is_root = 0        #is this server a root server?\n",
    "    #dns_zone = None    #own dns zone as json\n",
    "    #records_in_own_zone = None #all ns and a records in own zone. (this information is alreay \n",
    "                                    #conrained in the dns_zone variable but we are keeping this sepearate variable for now )\n",
    "  \n",
    "    def __init__(self, zone_number, seconds=2000,addr='127.0.0.9', port=53053, authorative=False, is_root=False): \n",
    "        self.address = addr\n",
    "        self.port    = port\n",
    "        self.socket = socket.socket(socket.AF_INET, socket.SOCK_DGRAM)\n",
    "        self.is_root = is_root\n",
    "        self.is_authorative = authorative\n",
    "        self.dns_zone, self.records_in_own_zone = load_zone(zone_number)\n",
    "\n",
    "    '''loads all entrys for own zone from our json file. \n",
    "    (e.g. zonename: telematik for zone (telematik, swith, router))'''\n",
    "    def load_zone(self, zone_number):\n",
    "        ## load all entries for my zone\n",
    "        with open('names.json') as dnsnamedata:\n",
    "            data = json.load(dnsnamedata)\n",
    "            dns_zone = data[zone_number]\n",
    "        \n",
    "        telematik_dns_dict = {'ns': pd.DataFrame(self.dns_zone['ns'])['host'].tolist(),\n",
    "                              'a':pd.DataFrame(self.dns_zone['a'])['value'].tolist()}\n",
    "        records_in_own_zone = pd.DataFrame(telematik_dns_dict, columns = ['ns','a' ])\n",
    "        return dns_zone, records_in_own_zone\n",
    "        print('loads the zones')\n",
    "    \n",
    "    '''checks if a requested entry is in own zone. \n",
    "    (e.g. this zonename is telematik and requested address is for dns name www.swith.telematik.\n",
    "    Means that swith is in our zone and we can send the adress for switch.telematik)\n",
    "    Returns None if not. '''\n",
    "    def is_in_own_zone():\n",
    "        names_i_know = pd.DataFrame(data[0]['ns'])['host'].tolist()\n",
    "        \n",
    "        print('check if x is in our zone')\n",
    "        \n",
    "        forward_to = None\n",
    "    \n",
    "        for name in names_i_know:\n",
    "            #define pattern somestring.name\n",
    "            pattern = re.compile(r'(.*?)(\\.'+str(name)+')?$')\n",
    "\n",
    "            #apply the addr we are looking for to the patter and return a list with results\n",
    "            # e.g. ['www.switch', '.telematik'] for mattching or ['www.switch.telematik1', None] for not matching\n",
    "            groups = pattern.match(addr).groups()\n",
    "\n",
    "            if(groups[1] != None):\n",
    "                forward_to = name\n",
    "\n",
    "        return telematik_dns_df[telematik_dns_df['ns'] == forward_to]\n",
    "    \n",
    "    #check if this dns can send directly the authorative answer?\n",
    "    #def have_authorative_answer():\n",
    "        \n",
    "    def response_to_client(payload, client_addr):\n",
    "        \n",
    "        try:\n",
    "            payload['dns.flags.response'] = 'Changed!'\n",
    "            payload_json = json.dumps(payload, indent = 4)\n",
    "            time.sleep(0.5)\n",
    "            server_socket.sendto(bytes(payload_json, 'utf-8'), client_addr)\n",
    "        except:\n",
    "            print('could not respond to client: ',client_addr)\n",
    "        \n",
    "    #def build_response():\n",
    "    \n",
    "    #this method is to start a thread to listen and handle requests and responses.\n",
    "    def start():\n",
    "        \n",
    "        server_addr = (self.address, self.port)\n",
    "        self.socket.bind(server_addr)\n",
    "        \n",
    "        \n",
    "    \n",
    "        "
   ]
  },
  {
   "cell_type": "code",
   "execution_count": 19,
   "metadata": {},
   "outputs": [],
   "source": [
    "t =DNS_server()"
   ]
  },
  {
   "cell_type": "code",
   "execution_count": 20,
   "metadata": {},
   "outputs": [
    {
     "ename": "TypeError",
     "evalue": "load_zone() missing 1 required positional argument: 'zonename'",
     "output_type": "error",
     "traceback": [
      "\u001b[1;31m---------------------------------------------------------------------------\u001b[0m",
      "\u001b[1;31mTypeError\u001b[0m                                 Traceback (most recent call last)",
      "\u001b[1;32m<ipython-input-20-35555ce36613>\u001b[0m in \u001b[0;36m<module>\u001b[1;34m\u001b[0m\n\u001b[1;32m----> 1\u001b[1;33m \u001b[0mt\u001b[0m\u001b[1;33m.\u001b[0m\u001b[0mload_zone\u001b[0m\u001b[1;33m(\u001b[0m\u001b[1;33m)\u001b[0m\u001b[1;33m\u001b[0m\u001b[1;33m\u001b[0m\u001b[0m\n\u001b[0m\u001b[0;32m      2\u001b[0m \u001b[0mt\u001b[0m\u001b[1;33m.\u001b[0m\u001b[0mdns_zone\u001b[0m\u001b[1;33m\u001b[0m\u001b[1;33m\u001b[0m\u001b[0m\n",
      "\u001b[1;31mTypeError\u001b[0m: load_zone() missing 1 required positional argument: 'zonename'"
     ]
    }
   ],
   "source": [
    "t.load_zone()\n",
    "t.dns_zone"
   ]
  },
  {
   "cell_type": "code",
   "execution_count": null,
   "metadata": {},
   "outputs": [],
   "source": []
  },
  {
   "cell_type": "code",
   "execution_count": 21,
   "metadata": {},
   "outputs": [],
   "source": [
    "class test(object):\n",
    "    t = 5"
   ]
  },
  {
   "cell_type": "code",
   "execution_count": 22,
   "metadata": {},
   "outputs": [],
   "source": [
    "z =test()"
   ]
  },
  {
   "cell_type": "code",
   "execution_count": 34,
   "metadata": {},
   "outputs": [
    {
     "data": {
      "text/plain": [
       "5"
      ]
     },
     "execution_count": 34,
     "metadata": {},
     "output_type": "execute_result"
    }
   ],
   "source": [
    "test.t"
   ]
  },
  {
   "cell_type": "code",
   "execution_count": 36,
   "metadata": {},
   "outputs": [],
   "source": [
    "test.t+=1"
   ]
  },
  {
   "cell_type": "code",
   "execution_count": 26,
   "metadata": {},
   "outputs": [
    {
     "data": {
      "text/plain": [
       "5"
      ]
     },
     "execution_count": 26,
     "metadata": {},
     "output_type": "execute_result"
    }
   ],
   "source": [
    "z2.t"
   ]
  },
  {
   "cell_type": "code",
   "execution_count": 27,
   "metadata": {},
   "outputs": [],
   "source": [
    "z2.t = 3"
   ]
  },
  {
   "cell_type": "code",
   "execution_count": 28,
   "metadata": {},
   "outputs": [
    {
     "data": {
      "text/plain": [
       "3"
      ]
     },
     "execution_count": 28,
     "metadata": {},
     "output_type": "execute_result"
    }
   ],
   "source": [
    "z2.t"
   ]
  },
  {
   "cell_type": "code",
   "execution_count": 29,
   "metadata": {},
   "outputs": [
    {
     "data": {
      "text/plain": [
       "5"
      ]
     },
     "execution_count": 29,
     "metadata": {},
     "output_type": "execute_result"
    }
   ],
   "source": [
    "z.t"
   ]
  },
  {
   "cell_type": "code",
   "execution_count": 30,
   "metadata": {},
   "outputs": [
    {
     "data": {
      "text/plain": [
       "5"
      ]
     },
     "execution_count": 30,
     "metadata": {},
     "output_type": "execute_result"
    }
   ],
   "source": [
    "z.t"
   ]
  },
  {
   "cell_type": "code",
   "execution_count": 37,
   "metadata": {},
   "outputs": [
    {
     "data": {
      "text/plain": [
       "6"
      ]
     },
     "execution_count": 37,
     "metadata": {},
     "output_type": "execute_result"
    }
   ],
   "source": [
    "test.t"
   ]
  },
  {
   "cell_type": "code",
   "execution_count": 32,
   "metadata": {},
   "outputs": [
    {
     "data": {
      "text/plain": [
       "3"
      ]
     },
     "execution_count": 32,
     "metadata": {},
     "output_type": "execute_result"
    }
   ],
   "source": [
    "z2.t"
   ]
  },
  {
   "cell_type": "code",
   "execution_count": null,
   "metadata": {},
   "outputs": [],
   "source": []
  }
 ],
 "metadata": {
  "kernelspec": {
   "display_name": "Python 3",
   "language": "python",
   "name": "python3"
  },
  "language_info": {
   "codemirror_mode": {
    "name": "ipython",
    "version": 3
   },
   "file_extension": ".py",
   "mimetype": "text/x-python",
   "name": "python",
   "nbconvert_exporter": "python",
   "pygments_lexer": "ipython3",
   "version": "3.7.6"
  },
  "latex_envs": {
   "LaTeX_envs_menu_present": true,
   "autoclose": false,
   "autocomplete": true,
   "bibliofile": "biblio.bib",
   "cite_by": "apalike",
   "current_citInitial": 1,
   "eqLabelWithNumbers": true,
   "eqNumInitial": 1,
   "hotkeys": {
    "equation": "Ctrl-E",
    "itemize": "Ctrl-I"
   },
   "labels_anchors": false,
   "latex_user_defs": false,
   "report_style_numbering": false,
   "user_envs_cfg": false
  }
 },
 "nbformat": 4,
 "nbformat_minor": 4
}

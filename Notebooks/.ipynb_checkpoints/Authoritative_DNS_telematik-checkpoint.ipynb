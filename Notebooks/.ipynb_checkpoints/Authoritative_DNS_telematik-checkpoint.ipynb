{
 "cells": [
  {
   "cell_type": "code",
   "execution_count": 1,
   "metadata": {},
   "outputs": [],
   "source": [
    "import socket\n",
    "import time\n",
    "import json\n",
    "import threading\n",
    "import pandas as pd\n",
    "import re"
   ]
  },
  {
   "cell_type": "markdown",
   "metadata": {},
   "source": [
    "#### This is the authoritative DNS Server .telematik\n",
    "\n",
    "This server knows the A records for DNS names: \n",
    "\n",
    "switch.telematik<br>\n",
    "router.telematik\n",
    "\n",
    "![zones_telematik.png](zones_telematik.png)"
   ]
  },
  {
   "cell_type": "markdown",
   "metadata": {},
   "source": [
    "Load my DNS zone"
   ]
  },
  {
   "cell_type": "code",
   "execution_count": 2,
   "metadata": {},
   "outputs": [],
   "source": [
    "with open('names.json') as dnsnamedata:\n",
    "    data = json.load(dnsnamedata)"
   ]
  },
  {
   "cell_type": "code",
   "execution_count": 3,
   "metadata": {},
   "outputs": [],
   "source": [
    "telematik_dns_zone = data[0]"
   ]
  },
  {
   "cell_type": "code",
   "execution_count": 4,
   "metadata": {},
   "outputs": [],
   "source": [
    "telematik_dns_dict = {'ns': pd.DataFrame(telematik_dns_zone['ns'])['host'].tolist(),'a':pd.DataFrame(telematik_dns_zone['a'])['value'].tolist()}\n",
    "telematik_dns_df = pd.DataFrame(telematik_dns_dict, columns = ['ns','a' ])"
   ]
  },
  {
   "cell_type": "code",
   "execution_count": 5,
   "metadata": {},
   "outputs": [
    {
     "data": {
      "text/html": [
       "<div>\n",
       "<style scoped>\n",
       "    .dataframe tbody tr th:only-of-type {\n",
       "        vertical-align: middle;\n",
       "    }\n",
       "\n",
       "    .dataframe tbody tr th {\n",
       "        vertical-align: top;\n",
       "    }\n",
       "\n",
       "    .dataframe thead th {\n",
       "        text-align: right;\n",
       "    }\n",
       "</style>\n",
       "<table border=\"1\" class=\"dataframe\">\n",
       "  <thead>\n",
       "    <tr style=\"text-align: right;\">\n",
       "      <th></th>\n",
       "      <th>ns</th>\n",
       "      <th>a</th>\n",
       "    </tr>\n",
       "  </thead>\n",
       "  <tbody>\n",
       "    <tr>\n",
       "      <th>0</th>\n",
       "      <td>switch.telematik</td>\n",
       "      <td>255.255.255.255</td>\n",
       "    </tr>\n",
       "    <tr>\n",
       "      <th>1</th>\n",
       "      <td>router.telematik</td>\n",
       "      <td>127.0.0.13</td>\n",
       "    </tr>\n",
       "  </tbody>\n",
       "</table>\n",
       "</div>"
      ],
      "text/plain": [
       "                 ns                a\n",
       "0  switch.telematik  255.255.255.255\n",
       "1  router.telematik       127.0.0.13"
      ]
     },
     "execution_count": 5,
     "metadata": {},
     "output_type": "execute_result"
    }
   ],
   "source": [
    "telematik_dns_df"
   ]
  },
  {
   "cell_type": "markdown",
   "metadata": {},
   "source": [
    "Regex: https://docs.python.org/3/library/re.html"
   ]
  },
  {
   "cell_type": "code",
   "execution_count": 6,
   "metadata": {},
   "outputs": [],
   "source": [
    "names_i_know = pd.DataFrame(data[0]['ns'])['host'].tolist()\n",
    "\n",
    "def do_i_know_this_addr(addr): \n",
    "    \n",
    "    forward_to = None\n",
    "    \n",
    "    for name in names_i_know:\n",
    "        #define pattern somestring.name\n",
    "        pattern = re.compile(r'(.*?)(\\.'+str(name)+')?$')\n",
    "        \n",
    "        #apply the addr we are looking for to the patter and return a list with results\n",
    "        # e.g. ['www.switch', '.telematik'] for mattching or ['www.switch.telematik1', None] for not matching\n",
    "        groups = pattern.match(addr).groups()\n",
    "       \n",
    "        if(groups[1] != None):\n",
    "            forward_to = name\n",
    "        \n",
    "    return telematik_dns_df[telematik_dns_df['ns'] == forward_to]"
   ]
  },
  {
   "cell_type": "code",
   "execution_count": 7,
   "metadata": {},
   "outputs": [
    {
     "name": "stdout",
     "output_type": "stream",
     "text": [
      "                 ns                a\n",
      "0  switch.telematik  255.255.255.255\n"
     ]
    }
   ],
   "source": [
    "answer = do_i_know_this_addr('mail.switch.telematik')\n",
    "print(answer)"
   ]
  },
  {
   "cell_type": "code",
   "execution_count": 8,
   "metadata": {},
   "outputs": [],
   "source": [
    "server_socket = socket.socket(socket.AF_INET,\n",
    "                     socket.SOCK_DGRAM)\n",
    "\n",
    "server_addr = ('127.0.0.15', 53053)\n",
    "server_socket.bind(server_addr)"
   ]
  },
  {
   "cell_type": "markdown",
   "metadata": {},
   "source": [
    "Log Files\n",
    "Each DNS server should produce a log file called <ip address>.log, where <ip address>\n",
    "denotes the IP address of the server. The log file should include number of requests sent\n",
    "and received and the number of replies sent and received. It should be formated as follow:\n"
   ]
  },
  {
   "cell_type": "code",
   "execution_count": 9,
   "metadata": {},
   "outputs": [],
   "source": [
    "#<Epoch Timestamp>|<IP address>|<#req snd>|<#req rcv>|<#resp snd>|<#resp rcv>\n",
    "#TODO: write request data into a log file\n",
    "#def log_request():"
   ]
  },
  {
   "cell_type": "code",
   "execution_count": 10,
   "metadata": {},
   "outputs": [],
   "source": [
    "#TODO: Build a response package for the request\n",
    "#def build_response():\n",
    "    "
   ]
  },
  {
   "cell_type": "code",
   "execution_count": 11,
   "metadata": {},
   "outputs": [],
   "source": [
    "def respond_to_client(payload, client_addr):\n",
    "    try:\n",
    "        payload['dns.flags.response'] = 'Changed!'\n",
    "        payload_json = json.dumps(payload, indent = 4)\n",
    "        time.sleep(0.5)\n",
    "        server_socket.sendto(bytes(payload_json, 'utf-8'), client_addr)\n",
    "    except:\n",
    "        print('could not respond to client: ',client_addr)"
   ]
  },
  {
   "cell_type": "code",
   "execution_count": null,
   "metadata": {},
   "outputs": [
    {
     "name": "stdout",
     "output_type": "stream",
     "text": [
      "received a request from client:  ('127.0.0.10', 53053) with payload:\n",
      " {\n",
      "    \"dns.flags.response\": \"placeholder\",\n",
      "    \"dns.flags.recdesired\": \"placeholder\",\n",
      "    \"dns.qry.name\": \"placeholder\",\n",
      "    \"dns.qry.type\": \"placeholder\",\n",
      "    \"dns.flags.rcode\": \"placeholder\",\n",
      "    \"dns.count.answers\": \"placeholder\",\n",
      "    \"dns.flags.authoritative\": \"placeholder\",\n",
      "    \"dns.a\": \"127.0.0.10\",\n",
      "    \"dns.ns\": \"www.switch.telematik\",\n",
      "    \"dns.resp.ttl\": 1234,\n",
      "    \"dns.srv.name\": \"placeholder\",\n",
      "    \"dns.srv.port\": \"placeholder\",\n",
      "    \"dns.srv.proto\": \"placeholder\",\n",
      "    \"dns.srv.service\": \"placeholder\",\n",
      "    \"dns.srv.target\": \"placeholder\"\n",
      "}\n",
      "received a request from client:  ('127.0.0.10', 53053) with payload:\n",
      " {\n",
      "    \"dns.flags.response\": \"placeholder\",\n",
      "    \"dns.flags.recdesired\": \"placeholder\",\n",
      "    \"dns.qry.name\": \"placeholder\",\n",
      "    \"dns.qry.type\": \"placeholder\",\n",
      "    \"dns.flags.rcode\": \"placeholder\",\n",
      "    \"dns.count.answers\": \"placeholder\",\n",
      "    \"dns.flags.authoritative\": \"placeholder\",\n",
      "    \"dns.a\": \"127.0.0.10\",\n",
      "    \"dns.ns\": \"www.switch.telematik\",\n",
      "    \"dns.resp.ttl\": 1234,\n",
      "    \"dns.srv.name\": \"placeholder\",\n",
      "    \"dns.srv.port\": \"placeholder\",\n",
      "    \"dns.srv.proto\": \"placeholder\",\n",
      "    \"dns.srv.service\": \"placeholder\",\n",
      "    \"dns.srv.target\": \"placeholder\"\n",
      "}\n"
     ]
    }
   ],
   "source": [
    "while(True):\n",
    "    payload, client_addr = server_socket.recvfrom(1024)\n",
    "    payload = json.loads(payload)  \n",
    "    print('received a request from client: ',client_addr,'with payload:\\n',json.dumps(payload, indent = 4))\n",
    "    respond_to_client(payload, client_addr)\n"
   ]
  },
  {
   "cell_type": "code",
   "execution_count": null,
   "metadata": {},
   "outputs": [],
   "source": []
  }
 ],
 "metadata": {
  "kernelspec": {
   "display_name": "Python 3",
   "language": "python",
   "name": "python3"
  },
  "language_info": {
   "codemirror_mode": {
    "name": "ipython",
    "version": 3
   },
   "file_extension": ".py",
   "mimetype": "text/x-python",
   "name": "python",
   "nbconvert_exporter": "python",
   "pygments_lexer": "ipython3",
   "version": "3.7.3"
  },
  "latex_envs": {
   "LaTeX_envs_menu_present": true,
   "autoclose": false,
   "autocomplete": true,
   "bibliofile": "biblio.bib",
   "cite_by": "apalike",
   "current_citInitial": 1,
   "eqLabelWithNumbers": true,
   "eqNumInitial": 1,
   "hotkeys": {
    "equation": "Ctrl-E",
    "itemize": "Ctrl-I"
   },
   "labels_anchors": false,
   "latex_user_defs": false,
   "report_style_numbering": false,
   "user_envs_cfg": false
  }
 },
 "nbformat": 4,
 "nbformat_minor": 4
}

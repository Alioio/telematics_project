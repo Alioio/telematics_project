{
 "cells": [
  {
   "cell_type": "code",
   "execution_count": 1,
   "metadata": {},
   "outputs": [],
   "source": [
    "import socket\n",
    "import time\n",
    "import json\n",
    "import threading\n",
    "import pandas as pd"
   ]
  },
  {
   "cell_type": "code",
   "execution_count": 2,
   "metadata": {},
   "outputs": [],
   "source": [
    "class Stub_resolver(object):\n",
    "    socket = None\n",
    "    address = None\n",
    "    port = None\n",
    "    stop_time = 0\n",
    "    \n",
    "    def __init__(self, seconds=2000, addr='127.0.0.9', port=53053):\n",
    "        self.seconds = seconds\n",
    "        #initialize cache\n",
    "        telematik_dns_dict = {'ns': [], 'a': [], 'ttl':[]}\n",
    "        self.cache = pd.DataFrame(telematik_dns_dict, columns = ['ns','a','ttl' ])\n",
    "        self.address = addr\n",
    "        self.port = port\n",
    "        self.stop_time = seconds\n",
    "        \n",
    "        self.socket = socket.socket(socket.AF_INET,\n",
    "                     socket.SOCK_DGRAM)\n",
    "        \n",
    "    def start(self):\n",
    "\n",
    "            ### Bind socket\n",
    "            server_addr = (self.address, self.port)\n",
    "            self.socket.bind(server_addr)\n",
    "\n",
    "            print('Stub Resolver start listening for ',self.seconds,' seconds...')\n",
    "            payload_from_req_resolver, client_addr = self.socket.recvfrom(1024)\n",
    "            payload_from_req_resolver = json.loads(payload_from_req_resolver)\n",
    "            print('Received response from: ',client_addr,' with payload:\\n',json.dumps(payload_from_req_resolver, indent = 4))\n",
    "            \n",
    "    def send_request(self, ip, port, payload):\n",
    "        self.socket.sendto(bytes(payload, 'utf-8'),(ip, port))"
   ]
  },
  {
   "cell_type": "code",
   "execution_count": 3,
   "metadata": {},
   "outputs": [],
   "source": [
    "stub_resolver = Stub_resolver(seconds=600)"
   ]
  },
  {
   "cell_type": "code",
   "execution_count": 4,
   "metadata": {},
   "outputs": [
    {
     "name": "stdout",
     "output_type": "stream",
     "text": [
      "Stub Resolver start listening for  600  seconds...\n"
     ]
    }
   ],
   "source": [
    "stub_resolver_thread = threading.Thread(target=stub_resolver.start)\n",
    "stub_resolver_thread.start()"
   ]
  },
  {
   "cell_type": "code",
   "execution_count": 5,
   "metadata": {},
   "outputs": [],
   "source": [
    "payload_dict2 ={  \n",
    "    \"dns.flags.response\": 0,\n",
    "    \"dns.flags.recdesired\": \"placeholder\",\n",
    "    \"dns.qry.name\": \"placeholder\",\n",
    "    \"dns.qry.type\": \"placeholder\",\n",
    "    \"dns.flags.rcode\": \"placeholder\",\n",
    "    \"dns.count.answers\": \"placeholder\",\n",
    "    \"dns.flags.authoritative\": \"placeholder\",\n",
    "    \"dns.a\": \"127.0.0.10\",\n",
    "    \"dns.ns\": \"www.switch.telematik\",\n",
    "    \"dns.resp.ttl\": 1234,\n",
    "    \"dns.srv.name\": \"placeholder\",\n",
    "    \"dns.srv.port\": \"placeholder\",\n",
    "    \"dns.srv.proto\": \"placeholder\",\n",
    "    \"dns.srv.service\": \"placeholder\",\n",
    "    \"dns.srv.target\": \"placeholder\"\n",
    "}  "
   ]
  },
  {
   "cell_type": "code",
   "execution_count": 6,
   "metadata": {},
   "outputs": [],
   "source": [
    "payload_dict ={  \n",
    "    \"dns.flags.response\":0,\n",
    "    \"dns.flags.recdesired\":1,\n",
    "    \"dns.qry.name\":\".switch.telematik\",\n",
    "    \"dns.qry.type\":1\n",
    "}  "
   ]
  },
  {
   "cell_type": "code",
   "execution_count": 7,
   "metadata": {},
   "outputs": [],
   "source": [
    "#convert dict to json object\n",
    "payload_json = json.dumps(payload_dict)"
   ]
  },
  {
   "cell_type": "code",
   "execution_count": 8,
   "metadata": {},
   "outputs": [
    {
     "data": {
      "text/plain": [
       "{'dns.flags.response': 0,\n",
       " 'dns.flags.recdesired': 1,\n",
       " 'dns.qry.name': '.switch.telematik',\n",
       " 'dns.qry.type': 1}"
      ]
     },
     "execution_count": 8,
     "metadata": {},
     "output_type": "execute_result"
    }
   ],
   "source": [
    "payload_dict"
   ]
  },
  {
   "cell_type": "code",
   "execution_count": 23,
   "metadata": {},
   "outputs": [],
   "source": [
    "stub_resolver.send_request('127.0.0.10', 53053, payload_json)"
   ]
  },
  {
   "cell_type": "code",
   "execution_count": 26,
   "metadata": {},
   "outputs": [],
   "source": [
    "stub_resolver.send_request('127.0.0.10', 53053, payload_json)"
   ]
  },
  {
   "cell_type": "code",
   "execution_count": 65,
   "metadata": {},
   "outputs": [],
   "source": [
    "stub_resolver.send_request('127.0.0.10', 53053, payload_json)"
   ]
  },
  {
   "cell_type": "code",
   "execution_count": null,
   "metadata": {},
   "outputs": [],
   "source": []
  },
  {
   "cell_type": "code",
   "execution_count": null,
   "metadata": {},
   "outputs": [],
   "source": []
  }
 ],
 "metadata": {
  "kernelspec": {
   "display_name": "Python 3",
   "language": "python",
   "name": "python3"
  },
  "language_info": {
   "codemirror_mode": {
    "name": "ipython",
    "version": 3
   },
   "file_extension": ".py",
   "mimetype": "text/x-python",
   "name": "python",
   "nbconvert_exporter": "python",
   "pygments_lexer": "ipython3",
   "version": "3.7.6"
  },
  "latex_envs": {
   "LaTeX_envs_menu_present": true,
   "autoclose": false,
   "autocomplete": true,
   "bibliofile": "biblio.bib",
   "cite_by": "apalike",
   "current_citInitial": 1,
   "eqLabelWithNumbers": true,
   "eqNumInitial": 1,
   "hotkeys": {
    "equation": "Ctrl-E",
    "itemize": "Ctrl-I"
   },
   "labels_anchors": false,
   "latex_user_defs": false,
   "report_style_numbering": false,
   "user_envs_cfg": false
  }
 },
 "nbformat": 4,
 "nbformat_minor": 4
}
